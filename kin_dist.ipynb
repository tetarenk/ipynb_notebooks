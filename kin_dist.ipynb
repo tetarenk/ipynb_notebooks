{
 "cells": [
  {
   "cell_type": "code",
   "execution_count": 4,
   "metadata": {
    "collapsed": true
   },
   "outputs": [],
   "source": [
    "from numpy import sqrt, abs, pi, cos, sin, max, ones, array\n",
    "from astropy import coordinates\n",
    "from astropy import units as u\n",
    "from astropy.coordinates import SkyCoord\n",
    "import numpy as np"
   ]
  },
  {
   "cell_type": "code",
   "execution_count": 11,
   "metadata": {
    "collapsed": true
   },
   "outputs": [],
   "source": [
    "def kdist(l, b, vin, near=True,r0=8.4e3,v0=2.54e2,dynamical=False,\n",
    "        kinematic=True,regular=False,rrgal=False,verbose=False,\n",
    "        inverse=False,silent=False, returnvtan=False):\n",
    "    '''Calculates kinematic distance.\n",
    "    Translated from IDL to Python by Adam Ginsburg\n",
    "    \n",
    "    Inputs:\n",
    "    l: Galactic longitude (decimal degrees)\n",
    "    b: Galactic latitude (decimal degrees)\n",
    "    vin: radial velocity wrt LSR (km/s)\n",
    "    r0: galactocentric distance for sun (pc; 8.4e3, Reid et al. 2009)\n",
    "    v0: velocity of LSR around GC (km/s; 240, Reid et al. 2009)\n",
    "    dynamical: Use the dynamical definition of the LSR (bool)\n",
    "    kinematic: Use the kinematic definition of the LSR (bool; default)\n",
    "    regular: Do not apply the rotation correction for High mass star forming regions (bool)\n",
    "    rrgal: return galactocentric distance in addition to distance from us (bool)\n",
    "    inverse: If set, pass DISTANCE instead of velocity, and output is velocity (bool)\n",
    "    returnvtan: If set, return the tanent velocity and ignore the input velocity (bool)\n",
    "    \n",
    "    Output:\n",
    "    dist: kinematic distance in pc\n",
    "    '''\n",
    "\n",
    "    dtor = pi/180.\n",
    "\n",
    "    if regular: vs = 0.0 \n",
    "    else: vs=15.0\n",
    "\n",
    "    if kinematic or not(dynamical):\n",
    "        solarmotion_ra = ((18+03/6e1+50.29/3.6e3)*15)\n",
    "        solarmotion_dec = (30+0/6e1+16.8/3.6e3)\n",
    "        solarmotion_mag = 20.0\n",
    "    else:\n",
    "        solarmotion_ra = ((17+49/6e1+58.667/3.6e3)*15)\n",
    "        solarmotion_dec = (28+7/6e1+3.96/3.6e3)\n",
    "        solarmotion_mag = 16.55294\n",
    "\n",
    "    #cg = coordinates.Galactic(l,b,unit=('deg','deg'))\n",
    "    cg = SkyCoord(L*u.deg, B*u.deg, frame='galactic')\n",
    "    #solarmotion = coordinates.ICRS(solarmotion_ra, solarmotion_dec, unit=('deg','deg'))\n",
    "    solarmotion = SkyCoord(ra=solarmotion_ra*u.deg, dec=solarmotion_dec*u.deg, frame='icrs')\n",
    "    #  ra,dec = cg.j2000()\n",
    "    #  gcirc, 2, solarmotion_ra, solarmotion_dec, ra, dec, theta\n",
    "    theta = cg.separation(solarmotion).to('arcsec').value\n",
    "\n",
    "    vhelio = vin-solarmotion_mag*cos(theta/206265.)\n",
    "\n",
    "    # UVW from Dehnen and Binney\n",
    "    bigu = 10.0\n",
    "    bigv = 5.23\n",
    "    bigw = 7.17\n",
    "\n",
    "    v = vhelio+(bigu*cos(l*dtor)+bigv*sin(l*dtor))*cos(b*dtor)+bigw*sin(b*dtor)\n",
    "\n",
    "    # Compute tangent distance and velocity\n",
    "    rtan = r0*(cos(l*dtor))/(cos(b*dtor))\n",
    "    vTEMP = (1/sin(l*dtor) - v0/(v0-vs)) * ((v0-vs)*sin(l*dtor)*cos(b*dtor))\n",
    "    vhelioTEMP = vTEMP - ((bigu*cos(l*dtor)+bigv*sin(l*dtor))*cos(b*dtor)+bigw*sin(b*dtor))\n",
    "    vtan = vhelioTEMP+solarmotion_mag*cos(theta/206265.)\n",
    "    if returnvtan:\n",
    "        return vtan\n",
    "\n",
    "    # This is r/r0\n",
    "    null = (v0/(v0-vs)+v/((v0-vs)*sin(l*dtor)*cos(b*dtor)))**(-1)\n",
    "\n",
    "    if inverse:\n",
    "        radical = cos(l*dtor) - cos(b*dtor) * vin / r0 \n",
    "        null = sqrt(1 - cos(l*dtor)**2 + radical**2)\n",
    "        v = (1/null - v0/(v0-vs)) * ((v0-vs)*sin(l*dtor)*cos(b*dtor))\n",
    "        vhelio = v - ((bigu*cos(l*dtor)+bigv*sin(l*dtor))*cos(b*dtor)+bigw*sin(b*dtor))\n",
    "        vlsr = vhelio+solarmotion_mag*cos(theta/206265.)\n",
    "        return vlsr\n",
    "    else:\n",
    "        if vin > vtan:\n",
    "            if not silent:\n",
    "                print \"Velocity is greater than tangent velocity v=%f.  Returning tangent distance.\" % vtan\n",
    "            if rrgal: return rtan,null*r0\n",
    "            return rtan\n",
    "        #  The > 0 traps things near the tangent point and sets them to the\n",
    "        #  tangent distance.  So quietly.  Perhaps this should pitch a flag?\n",
    "        radical = max(sqrt(((cos(l*dtor))**2-(1-null**2)) ),0)\n",
    "\n",
    "        fardist = r0*(cos(l*dtor)+radical)/(cos(b*dtor))\n",
    "\n",
    "        neardist = r0*(cos(l*dtor)-radical)/(cos(b*dtor))\n",
    "\n",
    "    rgal = null*r0\n",
    "    ind = (abs(l-180) < 90)\n",
    "    if ind.sum() > 1: neardist[ind] = fardist[ind]\n",
    "    elif ind==True: neardist = fardist\n",
    "\n",
    "    if not(near): dist = fardist\n",
    "    else: dist = neardist\n",
    "\n",
    "    if verbose:\n",
    "        print \"radical: %f  null: %f  vin: %f  v: %f  vhelio: %f rgal: %f  neardist: %f  fardist: %f\" % (radical,null,vin,v,vhelio,rgal,neardist,fardist)\n",
    "\n",
    "    if rrgal: return abs(dist),abs(rgal)\n",
    "    return abs(dist)\n",
    "def vector_kdist(x,y,z,**kwargs):\n",
    "\n",
    "    if type(z)==type(1) or type(z)==type(1.0):\n",
    "        z = z*ones(len(x))\n",
    "    v = []\n",
    "    for i,j,k in array([x,y,z]).T:\n",
    "        v.append( kdist(i,j,k,**kwargs) )\n",
    "    return array(v)\n",
    "def threekpcarm(longitude,radius=3.0,center_distance=8.5):\n",
    "    return sqrt(radius**2+center_distance**2-2*radius*center_distance*cos( (90-3*longitude) / 180. * pi ))"
   ]
  },
  {
   "cell_type": "code",
   "execution_count": 12,
   "metadata": {
    "collapsed": false
   },
   "outputs": [
    {
     "name": "stdout",
     "output_type": "stream",
     "text": [
      "Velocity is greater than tangent velocity v=66.140651.  Returning tangent distance.\n",
      "Source has a kinematic distance of:  5.92012303916 kpc\n"
     ]
    }
   ],
   "source": [
    "#L, B -- Galactic Longitude and Latitude (decimal degrees)\n",
    "#V - Velocity w.r.t. LSR in km/s\n",
    "c = SkyCoord(ra='19h15m39.13s', dec='+10d41m17.1s', frame='icrs')\n",
    "c_gal=c.galactic\n",
    "L=float(c_gal.l.deg)\n",
    "B=float(c_gal.b.deg)\n",
    "V=67.37\n",
    "dist = kdist(L, B, V)\n",
    "print 'Source has a kinematic distance of: ',dist/1e3, 'kpc'"
   ]
  },
  {
   "cell_type": "code",
   "execution_count": null,
   "metadata": {
    "collapsed": true
   },
   "outputs": [],
   "source": []
  }
 ],
 "metadata": {
  "kernelspec": {
   "display_name": "Python 2",
   "language": "python",
   "name": "python2"
  },
  "language_info": {
   "codemirror_mode": {
    "name": "ipython",
    "version": 2
   },
   "file_extension": ".py",
   "mimetype": "text/x-python",
   "name": "python",
   "nbconvert_exporter": "python",
   "pygments_lexer": "ipython2",
   "version": "2.7.13"
  }
 },
 "nbformat": 4,
 "nbformat_minor": 0
}
