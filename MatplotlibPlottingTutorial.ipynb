{
 "cells": [
  {
   "cell_type": "markdown",
   "id": "8c0d3949",
   "metadata": {},
   "source": [
    "## Step 1: Load the python packages you will need"
   ]
  },
  {
   "cell_type": "code",
   "execution_count": 5,
   "id": "17531c9e",
   "metadata": {},
   "outputs": [],
   "source": [
    "import matplotlib.pyplot as plt\n",
    "import numpy as np\n",
    "from astropy import units as u\n",
    "from astropy.io import ascii\n",
    "from matplotlib.ticker import AutoMinorLocator\n",
    "import matplotlib.font_manager as font_manager\n",
    "from matplotlib import rc\n",
    "from astropy.modeling import models\n",
    "font_prop = font_manager.FontProperties(size=16)\n",
    "rc('text', usetex=True)\n",
    "font = {'family' : 'serif','weight' : 'bold','size': '14'}\n",
    "rc('font', **font)\n",
    "%matplotlib inline"
   ]
  },
  {
   "cell_type": "markdown",
   "id": "64e339e0",
   "metadata": {},
   "source": [
    "## Step 2: Read in data"
   ]
  },
  {
   "cell_type": "markdown",
   "id": "0dd477aa",
   "metadata": {},
   "source": [
    "### Option 1 - manually enter using numpy arrays"
   ]
  },
  {
   "cell_type": "code",
   "execution_count": 26,
   "id": "9978f735",
   "metadata": {},
   "outputs": [],
   "source": [
    "#here is an example of manually entering data into arrays\n",
    "frequency=np.array([2,10,30,50,80,500,1000])\n",
    "flux=np.array([ 1.1,2.5,4.3,5.5,7.1,17.6,25.0])\n",
    "error=np.array([0.1,0.4,0.2,0.7,0.4,0.2,0.6])"
   ]
  },
  {
   "cell_type": "markdown",
   "id": "a64d9470",
   "metadata": {},
   "source": [
    "### Option 2 - read in a data file"
   ]
  },
  {
   "cell_type": "code",
   "execution_count": 21,
   "id": "61864397",
   "metadata": {},
   "outputs": [],
   "source": [
    "#here is an example of reading in a data file and saving the data to an array\n",
    "path_dir='/Users/alextetarenko/Desktop/Teaching/plot_for_amaris/'\n",
    "data=ascii.read(path_dir+'fake_data.txt',names=('Freq','Flux','Error'))\n",
    "frequency=data['Freq']\n",
    "flux=data['Flux']\n",
    "error=data['Error']"
   ]
  },
  {
   "cell_type": "markdown",
   "id": "7631c7ed",
   "metadata": {},
   "source": [
    "## Step 3: Plot data"
   ]
  },
  {
   "cell_type": "code",
   "execution_count": 28,
   "id": "e40a2176",
   "metadata": {},
   "outputs": [
    {
     "data": {
      "image/png": "[encoded data removed]",
      "text/plain": [
       "<Figure size 432x288 with 1 Axes>"
      ]
     },
     "metadata": {
      "needs_background": "light"
     },
     "output_type": "display_data"
    }
   ],
   "source": [
    "#here we are making a plot using the data arrays from step 1, and saving it to a pdf\n",
    "#note the \"%matplotlib inline\" command in the first step makes sure the plot is also printed to screen\n",
    "fig=plt.figure(figsize=(6,4))\n",
    "ax=plt.subplot(111)\n",
    "ax.errorbar(frequency, flux,yerr=error,marker='o',ls='',label='Fake Data',color='g')\n",
    "ax.set_ylabel('Flux (mJy)',fontsize=16)\n",
    "ax.set_xlabel('Frequency (GHz)',fontsize=16)\n",
    "ax.legend(loc='upper left',fontsize=16)\n",
    "ax.set_yscale('log')\n",
    "ax.set_xscale('log')\n",
    "ax.tick_params(axis='x',which='both',top='on',bottom='on',direction='in',length=3,width=1,labelsize=16)\n",
    "ax.tick_params(axis='y',which='both',left='on',right='on',direction='in',length=3,width=1,labelsize=16)\n",
    "plt.savefig(path_dir+'fake_spectrum.pdf',bbox_inches='tight')"
   ]
  },
  {
   "cell_type": "code",
   "execution_count": null,
   "id": "8174a2d1",
   "metadata": {},
   "outputs": [],
   "source": []
  }
 ],
 "metadata": {
  "kernelspec": {
   "display_name": "Python 3 (ipykernel)",
   "language": "python",
   "name": "python3"
  },
  "language_info": {
   "codemirror_mode": {
    "name": "ipython",
    "version": 3
   },
   "file_extension": ".py",
   "mimetype": "text/x-python",
   "name": "python",
   "nbconvert_exporter": "python",
   "pygments_lexer": "ipython3",
   "version": "3.9.7"
  }
 },
 "nbformat": 4,
 "nbformat_minor": 5
}
