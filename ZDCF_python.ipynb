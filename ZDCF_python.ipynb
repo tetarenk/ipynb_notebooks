{
 "cells": [
  {
   "cell_type": "code",
   "execution_count": 1,
   "metadata": {
    "collapsed": true
   },
   "outputs": [],
   "source": [
    "import numpy as np\n",
    "import pylab as pl\n",
    "import math as ma\n",
    "import matplotlib.pyplot as plt\n",
    "from matplotlib.ticker import AutoMinorLocator\n",
    "import subprocess\n",
    "import os\n",
    "%matplotlib inline\n",
    "from mpl_toolkits.axes_grid1.inset_locator import mark_inset,inset_axes,InsetPosition"
   ]
  },
  {
   "cell_type": "code",
   "execution_count": 12,
   "metadata": {
    "collapsed": false
   },
   "outputs": [],
   "source": [
    "#load lightcurves\n",
    "path_dir='/path/to/data/files/'\n",
    "bands='upperBand_lowerBand'\n",
    "\n",
    "#data file format is mjd, flux, fluxerr\n",
    "data1=np.loadtxt(path_dir+'higher_frequency_lc.txt')#higher frequency\n",
    "data2=np.loadtxt(path_dir+'lower_frequency_lc.txt')#lower frequency\n",
    "\n",
    "day_1=data1[:,0]\n",
    "flux_1=data1[:,1]\n",
    "fluxerr_1=data1[:,2]\n",
    "day_2=data2[:,0]\n",
    "flux_2=data2[:,1]\n",
    "fluxerr_2=data2[:,2]\n"
   ]
  },
  {
   "cell_type": "code",
   "execution_count": null,
   "metadata": {
    "collapsed": true
   },
   "outputs": [],
   "source": [
    "#plot lightcurves\n",
    "fig=plt.figure()\n",
    "ax=plt.subplot(211)\n",
    "ax.errorbar(day_1,flux_1,yerr=fluxerr_1,marker='o',ls='',color='b')\n",
    "ax2=plt.subplot(212,sharex=ax)\n",
    "ax2.errorbar(day_2,flux_2,yerr=fluxerr_2,marker='o',ls='',color='r')"
   ]
  },
  {
   "cell_type": "markdown",
   "metadata": {},
   "source": [
    "##*Get ZDCF Fortran code [here](http://www.weizmann.ac.il/particle/tal/research-activities/software)*\n",
    "###I modified original code to use the following parameters as commmand line arguments rather than user input:\n",
    "* type (1=auto-correlation, 2=cross-correlation)\n",
    "* output files prefix \n",
    "* are lightcurves uniformally sampled? (y or n)\n",
    "* minimum points per bin\n",
    "* omit zero lag when calculating ccf? (y or n)\n",
    "* monte carlo simulations number for errors\n",
    "* input light curve file(s)"
   ]
  },
  {
   "cell_type": "code",
   "execution_count": 14,
   "metadata": {
    "collapsed": false
   },
   "outputs": [
    {
     "name": "stdout",
     "output_type": "stream",
     "text": [
      "Running ZDCF...\n",
      "Running ML Peak Finder...\n",
      " PLIKE V3.0 begins.\n",
      " Calculating ML in range   -5000.00000      to    5000.00000    \n",
      "\n",
      "ZDCF peak at   +240.     r_max =  +0.422     , ZDCF C.O.M at   +214.    \n",
      "....................\n",
      "\n",
      "\n",
      "  #      lag         r         -dr        +dr    likelihood \n",
      " --- ---------- ---------- ---------- ---------- ---------- \n",
      "  1  -540.     -0.641      0.267      0.412      2.525E-03\n",
      "  2  -292.      0.166      0.339      0.318      2.010E-02\n",
      "  3  -240.      0.186      0.337      0.315      2.249E-02\n",
      "  4  -210.      7.886E-02  0.323      0.314      1.009E-02\n",
      "  5  -180.      5.876E-02  0.307      0.301      7.374E-03\n",
      "  6  -150.      0.106      0.294      0.284      8.787E-03\n",
      "  7  -120.      0.153      0.280      0.267      1.081E-02\n",
      "  8  -90.0     -2.842E-02  0.269      0.271      2.083E-03\n",
      "  9  -60.0     -0.303      0.227      0.247      7.451E-05\n",
      " 10  -30.0     -0.333      0.208      0.227      2.352E-05\n",
      " 11   30.0     -2.815E-02  0.244      0.245      1.193E-03\n",
      " 12   60.0      0.121      0.261      0.252      6.510E-03\n",
      " 13   90.0      0.202      0.266      0.251      1.388E-02\n",
      " 14   120.      0.120      0.281      0.271      8.448E-03\n",
      " 15   150.      0.275      0.281      0.258      2.769E-02\n",
      " 16   180.      0.351      0.283      0.252      4.785E-02\n",
      " 17   210.      0.335      0.301      0.267      4.664E-02\n",
      " 18   240.      0.422      0.299      0.255      7.943E-02\n",
      " 19   292.      0.255      0.331      0.301      3.304E-02\n",
      " 20   540.     -0.178      0.522      0.596      2.183E-02\n",
      "\n",
      "ML Peak at   +240.     , L at peak =  +7.943E-02\n",
      "1 sigma ML interval =   +240.       +175.       -496.    \n",
      "                    = (  -256.     ,   +415.    )\n",
      "\n",
      " Program ended.\n",
      "\n"
     ]
    }
   ],
   "source": [
    "#run zdcf code and ML code using subprocess module\n",
    "\n",
    "# range in seconds to look for lags\n",
    "lowr,upr=['-5000','5000']\n",
    "\n",
    "#set up lightcurve files in proper format\n",
    "os.system('rm -rf '+path_dir+'inp1')\n",
    "os.system('rm -rf '+path_dir+'inp1')\n",
    "os.system('rm -rf '+path_dir+'zdcf_light.dcf')\n",
    "os.system('rm -rf '+path_dir+'zdcf_light.lc1')\n",
    "os.system('rm -rf '+path_dir+'zdcf_light.lc2')\n",
    "tempFile = open(path_dir+'inp1','w')\n",
    "tempFile2 = open(path_dir+'inp2','w')\n",
    "if day_1[0]<=day_2[0]:\n",
    "    comp=day_1[0]\n",
    "else:\n",
    "    comp=day_2[0]\n",
    "for i in range(0,(len(day_1)-1)):\n",
    "    tempFile.write(' {0} {1} {2}\\n'.format((day_1[i]-comp)*(60*60*24.),flux_1[i],fluxerr_1[i]))\n",
    "for i in range(0,(len(day_2)-1)):\n",
    "    tempFile2.write(' {0} {1} {2}\\n'.format((day_2[i]-comp)*(60*60*24.),flux_2[i],fluxerr_2[i]))\n",
    "tempFile.close()\n",
    "tempFile2.close()\n",
    "\n",
    "#compiled fortran code run\n",
    "print 'Running ZDCF...'\n",
    "'''subprocess arguments:\n",
    "compiled code path,type (1=auto, 2=cross),output files prefix, \n",
    "uniform sampling? (y or n),min points per bin, omit zero lag? (y or n),\n",
    "mc sim number for errors, input lc files'''\n",
    "rc=subprocess.call(['/path/to/zdcf_code_compiled','2', path_dir+'zdcf_light', 'n',\\\n",
    "                    '11', 'y', '100', path_dir+'inp1', path_dir+'inp2'])\n",
    "print 'Running ML Peak Finder...'\n",
    "rc2=subprocess.call(['/path/to/zdcf_ml_compiled_code',path_dir+'zdcf_light.dcf',\\\n",
    "                     lowr,upr])\n",
    "rc3=subprocess.check_output(['/path/to/zdcf_ml_compiled_code/zdcf_ml_cmpiled_code',\\\n",
    "                             path_dir+'zdcf_light.dcf',  lowr,upr])\n",
    "print rc3"
   ]
  },
  {
   "cell_type": "code",
   "execution_count": 26,
   "metadata": {
    "collapsed": true
   },
   "outputs": [],
   "source": [
    "#manually record lag output, all in seconds\n",
    "lag_val=240.\n",
    "lag_errL=-256.\n",
    "lag_errH=415.\n",
    "\n",
    "##plot limits\n",
    "#inset around peak\n",
    "in_low=-500\n",
    "in_up=500\n",
    "#full plot\n",
    "low=-1000\n",
    "up=1000"
   ]
  },
  {
   "cell_type": "code",
   "execution_count": null,
   "metadata": {
    "collapsed": true
   },
   "outputs": [],
   "source": [
    "#plot ccf\n",
    "data=np.loadtxt(path_dir+'zdcf_light.dcf')\n",
    "time_lag=data[:,0]\n",
    "time_lag_low=data[:,1]\n",
    "time_lag_up=data[:,2]\n",
    "cross_cor_coef=data[:,3]\n",
    "cross_cor_coef_low=data[:,4]\n",
    "cross_cor_coef_up=data[:,5]\n",
    "filez=open(path_dir+'datafile_zdcf_'+bands+'.txt','w')\n",
    "for ii in range(0,len(time_lag)):\n",
    "    filez.write('{0} {1} {2} {3} {4} {5}\\n'.format(time_lag[ii],time_lag_low[ii],time_lag_up[ii],\\\n",
    "                                                   cross_cor_coef[ii],cross_cor_coef_low[ii],\\\n",
    "                                                   cross_cor_coef_up[ii]))\n",
    "filez.close()\n",
    "\n",
    "fig2=plt.figure(figsize=(10,7))\n",
    "from matplotlib import rc\n",
    "rc('text', usetex=True)\n",
    "font = {'family' : 'serif',\n",
    "        'weight' : 'bold',\n",
    "        'size'   : '14'}\n",
    "rc('font', **font)\n",
    "ax=plt.subplot(111)\n",
    "ax.errorbar(time_lag/60.,cross_cor_coef,yerr=[cross_cor_coef_low,cross_cor_coef_up],\\\n",
    "            xerr=[time_lag_low/60.,time_lag_up/60.],marker='o',color='#58ACFA')\n",
    "axins = inset_axes(ax,width=\"20%\",height=2.,loc=2)\n",
    "axins.errorbar(time_lag/60.,cross_cor_coef,yerr=[cross_cor_coef_low,cross_cor_coef_up],\\\n",
    "               xerr=[time_lag_low/60.,time_lag_up/60.],marker='o',color='#58ACFA')\n",
    "axins.set_xlim(in_low/60.,in_up/60.)\n",
    "axins.set_ylim(-0.6,0.6)\n",
    "axins.set_xticks([0,3,6])\n",
    "axins.set_yticks([-0.6,-0.3,0,0.3,0.6])\n",
    "axins.axvline(x=lag_val/60.,color='k',lw=1.5,ls='--')\n",
    "axins.axvspan(lag_errL/60., lag_errH/60., alpha=0.15, color='k')\n",
    "axins.tick_params(axis='both',which='minor',length=4,width=1)\n",
    "axins.tick_params(axis='both',which='major',labelsize=28,length=6,width=1)\n",
    "axins.xaxis.set_minor_locator(AutoMinorLocator(3))\n",
    "ip = InsetPosition(ax,[0.16,0.66,0.3,0.3])\n",
    "axins.set_axes_locator(ip)\n",
    "ax.set_xlabel('Time Lag (minutes)',fontsize=28)\n",
    "ax.set_ylabel('Correlation Coefficient',fontsize=28)\n",
    "ax.tick_params(axis='both',which='minor',length=4,width=1)\n",
    "ax.tick_params(axis='both',which='major',labelsize=28,length=6,width=1)\n",
    "ax.set_xlim(low/60.,up/60.)\n",
    "ax.set_ylim(-1,1.)\n",
    "ax.axvline(x=lag_val/60.,color='k',lw=1.5,ls='--')\n",
    "ax.axvspan(lag_errL/60., lag_errH/60., alpha=0.15, color='k')\n",
    "ax.xaxis.set_minor_locator(AutoMinorLocator(5))\n",
    "ax.yaxis.set_minor_locator(AutoMinorLocator(2))\n",
    "plt.savefig(path_dir+'zdcf_'+bands+'_fig.pdf',format='pdf',bbox_inches='tight')"
   ]
  }
 ],
 "metadata": {
  "kernelspec": {
   "display_name": "Python 2",
   "language": "python",
   "name": "python2"
  },
  "language_info": {
   "codemirror_mode": {
    "name": "ipython",
    "version": 2
   },
   "file_extension": ".py",
   "mimetype": "text/x-python",
   "name": "python",
   "nbconvert_exporter": "python",
   "pygments_lexer": "ipython2",
   "version": "2.7.13"
  }
 },
 "nbformat": 4,
 "nbformat_minor": 0
}
