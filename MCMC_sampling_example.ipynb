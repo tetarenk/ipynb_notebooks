{
 "cells": [
  {
   "cell_type": "code",
   "execution_count": 1,
   "id": "fb73b119",
   "metadata": {},
   "outputs": [],
   "source": [
    "#import some packages you will need\n",
    "import numpy as np\n",
    "import matplotlib.pyplot as plt\n",
    "import pymc3 as pm\n",
    "import scipy.stats as ss"
   ]
  },
  {
   "cell_type": "code",
   "execution_count": 2,
   "id": "a0d80fc7",
   "metadata": {},
   "outputs": [],
   "source": [
    "#define your function for the \"thing\" you want to compute, based on your 4 parameters\n",
    "def total_model(param1,param2,param3,param4):\n",
    "    some_value=2*param1+param2+3*param3+param4\n",
    "    return(some_value)"
   ]
  },
  {
   "cell_type": "markdown",
   "id": "b03a225f",
   "metadata": {},
   "source": [
    "# Simple Monte Carlo (MC) Sampling"
   ]
  },
  {
   "cell_type": "code",
   "execution_count": 3,
   "id": "38891483",
   "metadata": {},
   "outputs": [
    {
     "name": "stdout",
     "output_type": "stream",
     "text": [
      "21.756143477106306\n",
      "6.960028722290964\n",
      "7.089752540110986\n"
     ]
    },
    {
     "data": {
      "text/plain": [
       "(array([0.001043  , 0.        , 0.        , 0.        , 0.        ,\n",
       "        0.001043  , 0.        , 0.001043  , 0.00312901, 0.001043  ,\n",
       "        0.00208601, 0.00730102, 0.00625802, 0.01251604, 0.01564504,\n",
       "        0.01460204, 0.01460204, 0.01773105, 0.02711808, 0.04797814,\n",
       "        0.02711808, 0.04693513, 0.05215015, 0.04693513, 0.06675219,\n",
       "        0.03859111, 0.06466619, 0.06362318, 0.05423616, 0.05527916,\n",
       "        0.04484913, 0.04902114, 0.04797814, 0.03754811, 0.0365051 ,\n",
       "        0.02398907, 0.02086006, 0.01147303, 0.01773105, 0.01147303,\n",
       "        0.00938703, 0.01251604, 0.00938703, 0.00417201, 0.00625802,\n",
       "        0.00312901, 0.00312901, 0.00208601, 0.001043  , 0.001043  ]),\n",
       " array([-4.18496783, -3.22619782, -2.2674278 , -1.30865778, -0.34988776,\n",
       "         0.60888225,  1.56765227,  2.52642229,  3.48519231,  4.44396232,\n",
       "         5.40273234,  6.36150236,  7.32027238,  8.27904239,  9.23781241,\n",
       "        10.19658243, 11.15535244, 12.11412246, 13.07289248, 14.0316625 ,\n",
       "        14.99043251, 15.94920253, 16.90797255, 17.86674257, 18.82551258,\n",
       "        19.7842826 , 20.74305262, 21.70182264, 22.66059265, 23.61936267,\n",
       "        24.57813269, 25.53690271, 26.49567272, 27.45444274, 28.41321276,\n",
       "        29.37198278, 30.33075279, 31.28952281, 32.24829283, 33.20706284,\n",
       "        34.16583286, 35.12460288, 36.0833729 , 37.04214291, 38.00091293,\n",
       "        38.95968295, 39.91845297, 40.87722298, 41.835993  , 42.79476302,\n",
       "        43.75353304]),\n",
       " [<matplotlib.patches.Polygon at 0x7fedc4215fd0>])"
      ]
     },
     "execution_count": 3,
     "metadata": {},
     "output_type": "execute_result"
    },
    {
     "data": {
      "image/png": "[encoded data removed]",
      "text/plain": [
       "<Figure size 432x288 with 1 Axes>"
      ]
     },
     "metadata": {
      "needs_background": "light"
     },
     "output_type": "display_data"
    }
   ],
   "source": [
    "#define number of samples\n",
    "nsamp = 1000\n",
    "\n",
    "#draw samples from parameter distributions (here I have assumed normal distributions)\n",
    "par1 = ss.norm(loc=5.,scale=3).rvs(nsamp)\n",
    "par2 = ss.norm(loc=3.,scale=1.).rvs(nsamp)\n",
    "par3 = ss.norm(loc=2.,scale=1.).rvs(nsamp)\n",
    "par4 = ss.norm(loc=3.,scale=2.).rvs(nsamp)\n",
    "\n",
    "#compute \"thing\" you are interested in, using above samples\n",
    "thing = total_model(par1,par2,par3,par4)\n",
    "\n",
    "#print out median and 1 sigma values for \"thing\" + plot a histogram\n",
    "print(np.median(thing))\n",
    "print(np.median(thing)-np.quantile(thing,0.15))\n",
    "print(np.quantile(thing,0.85)-np.median(thing))\n",
    "plt.hist(thing,bins=50,histtype='step',density=True)"
   ]
  },
  {
   "cell_type": "markdown",
   "id": "b36c79c2",
   "metadata": {},
   "source": [
    "# MCMC Sampling with PyMC"
   ]
  },
  {
   "cell_type": "code",
   "execution_count": 4,
   "id": "482024cb",
   "metadata": {},
   "outputs": [
    {
     "name": "stderr",
     "output_type": "stream",
     "text": [
      "/var/folders/f4/vlzp24jx6r9962ljc6g1mcn00000gn/T/ipykernel_93577/1688478122.py:13: FutureWarning: In v4.0, pm.sample will return an `arviz.InferenceData` object instead of a `MultiTrace` by default. You can pass return_inferencedata=True or return_inferencedata=False to be safe and silence this warning.\n",
      "  trace = pm.sample(draws=nsamp)\n",
      "Auto-assigning NUTS sampler...\n",
      "Initializing NUTS using jitter+adapt_diag...\n",
      "Multiprocess sampling (4 chains in 4 jobs)\n",
      "NUTS: [par4, par3, par2, par1]\n"
     ]
    },
    {
     "data": {
      "text/html": [
       "\n",
       "    <div>\n",
       "        <style>\n",
       "            /* Turns off some styling */\n",
       "            progress {\n",
       "                /* gets rid of default border in Firefox and Opera. */\n",
       "                border: none;\n",
       "                /* Needs to be in here for Safari polyfill so background images work as expected. */\n",
       "                background-size: auto;\n",
       "            }\n",
       "            .progress-bar-interrupted, .progress-bar-interrupted::-webkit-progress-bar {\n",
       "                background: #F44336;\n",
       "            }\n",
       "        </style>\n",
       "      <progress value='8000' class='' max='8000' style='width:300px; height:20px; vertical-align: middle;'></progress>\n",
       "      100.00% [8000/8000 00:01<00:00 Sampling 4 chains, 0 divergences]\n",
       "    </div>\n",
       "    "
      ],
      "text/plain": [
       "<IPython.core.display.HTML object>"
      ]
     },
     "metadata": {},
     "output_type": "display_data"
    },
    {
     "name": "stderr",
     "output_type": "stream",
     "text": [
      "Sampling 4 chains for 1_000 tune and 1_000 draw iterations (4_000 + 4_000 draws total) took 14 seconds.\n"
     ]
    },
    {
     "name": "stdout",
     "output_type": "stream",
     "text": [
      "22.002783492611826\n",
      "7.341963248061459\n",
      "7.396548943214363\n"
     ]
    },
    {
     "data": {
      "text/plain": [
       "(array([0.001043  , 0.        , 0.        , 0.        , 0.        ,\n",
       "        0.001043  , 0.        , 0.001043  , 0.00312901, 0.001043  ,\n",
       "        0.00208601, 0.00730102, 0.00625802, 0.01251604, 0.01564504,\n",
       "        0.01460204, 0.01460204, 0.01773105, 0.02711808, 0.04797814,\n",
       "        0.02711808, 0.04693513, 0.05215015, 0.04693513, 0.06675219,\n",
       "        0.03859111, 0.06466619, 0.06362318, 0.05423616, 0.05527916,\n",
       "        0.04484913, 0.04902114, 0.04797814, 0.03754811, 0.0365051 ,\n",
       "        0.02398907, 0.02086006, 0.01147303, 0.01773105, 0.01147303,\n",
       "        0.00938703, 0.01251604, 0.00938703, 0.00417201, 0.00625802,\n",
       "        0.00312901, 0.00312901, 0.00208601, 0.001043  , 0.001043  ]),\n",
       " array([-4.18496783, -3.22619782, -2.2674278 , -1.30865778, -0.34988776,\n",
       "         0.60888225,  1.56765227,  2.52642229,  3.48519231,  4.44396232,\n",
       "         5.40273234,  6.36150236,  7.32027238,  8.27904239,  9.23781241,\n",
       "        10.19658243, 11.15535244, 12.11412246, 13.07289248, 14.0316625 ,\n",
       "        14.99043251, 15.94920253, 16.90797255, 17.86674257, 18.82551258,\n",
       "        19.7842826 , 20.74305262, 21.70182264, 22.66059265, 23.61936267,\n",
       "        24.57813269, 25.53690271, 26.49567272, 27.45444274, 28.41321276,\n",
       "        29.37198278, 30.33075279, 31.28952281, 32.24829283, 33.20706284,\n",
       "        34.16583286, 35.12460288, 36.0833729 , 37.04214291, 38.00091293,\n",
       "        38.95968295, 39.91845297, 40.87722298, 41.835993  , 42.79476302,\n",
       "        43.75353304]),\n",
       " [<matplotlib.patches.Polygon at 0x7fedb3a3e940>])"
      ]
     },
     "execution_count": 4,
     "metadata": {},
     "output_type": "execute_result"
    },
    {
     "data": {
      "image/png": "[encoded data removed]",
      "text/plain": [
       "<Figure size 432x288 with 1 Axes>"
      ]
     },
     "metadata": {
      "needs_background": "light"
     },
     "output_type": "display_data"
    }
   ],
   "source": [
    "#define number of samples\n",
    "nsamp=1000\n",
    "\n",
    "with pm.Model() as model:\n",
    "    #define parameter distributions\n",
    "    par1 = pm.Normal('par1',5,3)\n",
    "    par2 = pm.Normal('par2',3,1)\n",
    "    par3 = pm.Normal('par3',2,1)\n",
    "    par4 = pm.Normal('par4',3,2)\n",
    "    #compute \"thing\"\n",
    "    thingy = pm.Deterministic('thingy',total_model(par1,par2,par3,par4))\n",
    "    #sample \"thing\"\n",
    "    trace = pm.sample(draws=nsamp)\n",
    "\n",
    "#print out median and 1 sigma values for \"thing\" + plot a histogram\n",
    "print(np.median(trace['thingy']))\n",
    "print(np.median(trace['thingy'])-np.quantile(trace['thingy'],0.15))\n",
    "print(np.quantile(trace['thingy'],0.85)-np.median(trace['thingy']))\n",
    "plt.hist(thing,bins=50,histtype='step',density=True)\n"
   ]
  },
  {
   "cell_type": "markdown",
   "id": "067c1722",
   "metadata": {},
   "source": [
    "# Compare the two methods"
   ]
  },
  {
   "cell_type": "code",
   "execution_count": 6,
   "id": "9de2f17b",
   "metadata": {},
   "outputs": [
    {
     "name": "stdout",
     "output_type": "stream",
     "text": [
      "MC\n",
      "21.756143477106306\n",
      "6.960028722290964\n",
      "7.089752540110986\n",
      "\n",
      "MCMC\n",
      "22.002783492611826\n",
      "7.341963248061459\n",
      "7.396548943214363\n"
     ]
    },
    {
     "data": {
      "text/plain": [
       "<matplotlib.legend.Legend at 0x7fedc4675ac0>"
      ]
     },
     "execution_count": 6,
     "metadata": {},
     "output_type": "execute_result"
    },
    {
     "data": {
      "image/png": "[encoded data removed]",
      "text/plain": [
       "<Figure size 432x288 with 1 Axes>"
      ]
     },
     "metadata": {
      "needs_background": "light"
     },
     "output_type": "display_data"
    }
   ],
   "source": [
    "print('MC')\n",
    "print(np.median(thing))\n",
    "print(np.median(thing)-np.quantile(thing,0.15))\n",
    "print(np.quantile(thing,0.85)-np.median(thing))\n",
    "print('\\nMCMC')\n",
    "print(np.median(trace['thingy']))\n",
    "print(np.median(trace['thingy'])-np.quantile(trace['thingy'],0.15))\n",
    "print(np.quantile(trace['thingy'],0.85)-np.median(trace['thingy']))\n",
    "\n",
    "plt.hist(thing,bins=50,density=True,histtype='step',label='MC')\n",
    "plt.hist(trace['thingy'],bins=50,density=True,histtype='step',label='MCMC')\n",
    "plt.legend()"
   ]
  },
  {
   "cell_type": "code",
   "execution_count": null,
   "id": "45aa6a4f",
   "metadata": {},
   "outputs": [],
   "source": []
  }
 ],
 "metadata": {
  "kernelspec": {
   "display_name": "Python 3 (ipykernel)",
   "language": "python",
   "name": "python3"
  },
  "language_info": {
   "codemirror_mode": {
    "name": "ipython",
    "version": 3
   },
   "file_extension": ".py",
   "mimetype": "text/x-python",
   "name": "python",
   "nbconvert_exporter": "python",
   "pygments_lexer": "ipython3",
   "version": "3.9.7"
  }
 },
 "nbformat": 4,
 "nbformat_minor": 5
}
