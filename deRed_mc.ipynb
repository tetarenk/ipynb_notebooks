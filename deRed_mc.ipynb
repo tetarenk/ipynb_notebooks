{
 "cells": [
  {
   "cell_type": "code",
   "execution_count": 1,
   "metadata": {
    "collapsed": true
   },
   "outputs": [],
   "source": [
    "import scipy as sc\n",
    "import numpy as np\n",
    "from scipy.stats import norm\n",
    "import math as m"
   ]
  },
  {
   "cell_type": "code",
   "execution_count": 3,
   "metadata": {
    "collapsed": true
   },
   "outputs": [],
   "source": [
    "def ccm_unred(wave, flux, ebv, r_v=\"\"):\n",
    "    '''Deredden a flux vector using the Cardelli, Clayton, & Mathis, 1989 ApJ,345, 245 prescription.\n",
    "    Includes the update for the near-UV given by O'Donnell, 1994, ApJ, 422, 158.\n",
    "    Parameterization is valid from the IR to the far-UV (3.5 microns to 0.1 microns).\n",
    "    NOTE: Wavelength in Angstroms\n",
    "    Function converted from IDL, not by me!\n",
    "    '''\n",
    "    wave = np.array(wave, float)\n",
    "    flux = np.array(flux, float)\n",
    "    \n",
    "    if wave.size != flux.size: \n",
    "        raise TypeError, 'ERROR - wave and flux vectors must be the same size'\n",
    "    \n",
    "    if not bool(r_v): \n",
    "        r_v = 3.1 \n",
    "\n",
    "    x = 10000.0/wave\n",
    "    npts = wave.size\n",
    "    a = np.zeros(npts, float)\n",
    "    b = np.zeros(npts, float)\n",
    "    \n",
    "    ###############################\n",
    "    #Infrared\n",
    "    \n",
    "    good = np.where( (x > 0.3) & (x < 1.1) )\n",
    "    a[good] = 0.574 * x[good]**(1.61)\n",
    "    b[good] = -0.527 * x[good]**(1.61)\n",
    "    \n",
    "    ###############################\n",
    "    # Optical & Near IR\n",
    "\n",
    "    good = np.where( (x  >= 1.1) & (x < 3.3) )\n",
    "    y = x[good] - 1.82\n",
    "    \n",
    "    c1 = np.array([0.32999,-0.77530,0.01979,0.72085,-0.02427,-0.50447,0.17699,1.0])\n",
    "    c2 = np.array([-2.09002,5.30260,-0.62251,-5.38434,1.07233,2.28305,1.41338,0.0] )\n",
    "\n",
    "    a[good] = np.polyval(c1, y)\n",
    "    b[good] = np.polyval(c2, y)\n",
    "\n",
    "    ###############################\n",
    "    # Mid-UV\n",
    "    \n",
    "    good = np.where( (x >= 3.3) & (x < 8) )   \n",
    "    y = x[good]\n",
    "    F_a = np.zeros(np.size(good), float)\n",
    "    F_b = np.zeros(np.size(good), float)\n",
    "    good1 = np.where( y >= 5.9 )    \n",
    "    \n",
    "    if np.size(good1) > 0:\n",
    "        y1 = y[good1] - 5.9\n",
    "        F_a[ good1] = -0.04473 * y1**2 - 0.009779 * y1**3\n",
    "        F_b[ good1] =   0.2130 * y1**2  +  0.1207 * y1**3\n",
    "\n",
    "    a[good] =  1.752 - 0.316*y - (0.104 / ( (y-4.67)**2 + 0.341 )) + F_a\n",
    "    b[good] = -3.090 + 1.825*y + (1.206 / ( (y-4.62)**2 + 0.263 )) + F_b\n",
    "    \n",
    "    ###############################\n",
    "    # Far-UV\n",
    "    \n",
    "    good = np.where( (x >= 8) & (x <= 10) )   \n",
    "    y = x[good] - 8.0\n",
    "    c1 = [-0.070 ,0.137,-0.628, -1.073]\n",
    "    c2 = [0.374 ,-0.420,4.257,13.670]\n",
    "    a[good] = np.polyval(c1, y)\n",
    "    b[good] = np.polyval(c2, y)\n",
    "\n",
    "    # Applying Extinction Correction\n",
    "    \n",
    "    a_v = r_v * ebv\n",
    "    a_lambda = a_v * (a + b/r_v)\n",
    "    funred = flux * 10.0**(0.4*a_lambda) \n",
    "\n",
    "    return(funred,a,b,x)\n",
    "def confidenceInterval(y,sig):\n",
    "    '''Calculates the Gaussian sigma confidence interval for a pdf'''\n",
    "    median=np.percentile(y,50)\n",
    "    pct15=np.percentile(y,15)\n",
    "    pct85=np.percentile(y,85)\n",
    "    list1=np.array([median,median-pct15,pct85-median])\n",
    "    return list1\n",
    "def magToFlux(mag,zeroP):\n",
    "    '''Convert magnitudes to flux units'''\n",
    "    f=[]\n",
    "    for item in mag:\n",
    "        fv=zeroP*10**(-item/2.5)\n",
    "        f.append(fv)\n",
    "    return(f)"
   ]
  },
  {
   "cell_type": "code",
   "execution_count": 10,
   "metadata": {
    "collapsed": true
   },
   "outputs": [],
   "source": [
    "def MCdeRed(val,lamb,flag,zeroP='',nH='',ebmv=''):\n",
    "    '''Monte Carlo version of going from magnitude/flux to dereddend flux in Jy.\n",
    "    Can use:\n",
    "    (a) E(B-V) value directly, or\n",
    "    (b) nH value and the relation between optical extinction \n",
    "    and hydrogen column density in the Galaxy (Guver & Ozel, 2009, MNRAS, 400, 2050)\n",
    "\n",
    "    INPUT: \n",
    "    val=magnitude or flux (in ergs^-1cm^-2hz^-1); list, [val,err]\n",
    "    lamb=wavelength in microns\n",
    "    flag='mag' or'flux' depending on input data values\n",
    "    zeroP=zero point in Jy (only set if inputting magnitude for val)\n",
    "    nH=column density in cm^-2; list [val,err] (only set if using nH value method)\n",
    "    ebmv=E(B-V) value (only set if using E(B-V) value method)\n",
    "    \n",
    "    OUTPUT: \n",
    "    fEST=dereddend flux list, [flux,lower error, upper error], all in Jy\n",
    "    '''\n",
    "    lamB=lamb*10000.0\n",
    "    samples=np.random.normal(0,1,100)\n",
    "    samples2=np.random.normal(0,1,100)\n",
    "    flux=[]\n",
    "    for ii in range(0,len(samples)):\n",
    "        if flag=='mag':\n",
    "            mag_sim = samples[ii]*val[1]+val[0]\n",
    "            flux_sim=magToFlux([mag_sim],zeroP)\n",
    "        elif flag=='flux':\n",
    "            flux_sim = samples[ii]*val[1]+val[0]\n",
    "        if nH!='':\n",
    "            nh_sim  = samples2[ii]*nH[1]+nH[0]\n",
    "            av=nh_sim/(2.21*10**21)\n",
    "            ebv_sim=av/3.1\n",
    "        elif ebmv!='':\n",
    "            ebv_sim  = ebmv[0]#samples2[ii]*ebmv[1]+ebmv[0]\n",
    "        fluxUn=ccm_unred([lamB],[flux_sim], ebv_sim, r_v=3.1)\n",
    "        fluxUn1=fluxUn[0]\n",
    "        flux.append(fluxUn1[0])\n",
    "    if flag=='mag':\n",
    "        fEST=confidenceInterval(flux,1)\n",
    "    elif flag=='flux':\n",
    "        fEST=confidenceInterval(flux,1)*1e23\n",
    "    return(fEST)"
   ]
  },
  {
   "cell_type": "code",
   "execution_count": 11,
   "metadata": {
    "collapsed": false
   },
   "outputs": [
    {
     "name": "stdout",
     "output_type": "stream",
     "text": [
      "[ 0.05568547  0.0055773   0.00489127]\n",
      "[ 0.00090849  0.00048556  0.00048901]\n",
      "[ 0.02839986  0.00138225  0.00126581]\n",
      "[  2.85164846e-06   2.79391120e-07   2.22742912e-07]\n"
     ]
    }
   ],
   "source": [
    "#examples\n",
    "\n",
    "#(1) mag to deredended flux using nH\n",
    "print MCdeRed([10.2,0.1],2.190,'mag',zeroP=640.0,nH=[3*10**20,0.5*10**20])\n",
    "\n",
    "#(2) flux to deredended flux using nH\n",
    "print MCdeRed([0.00256*10**-26,0.001e-26],0.310,'flux',nH=[8.1*10**21,0.1*10**21])\n",
    "\n",
    "#(3) flux to deredended flux using E(B-V)\n",
    "print MCdeRed([(1.68654e-16/(3e18))*(0.3465*10000)**2,(6.60284e-18/(3e18))*(0.3465*10000)**2],\\\n",
    "          0.310,'flux',ebmv=[1.2,0.2])\n",
    "\n",
    "#(4) mag to deredended flux using using E(B-V)\n",
    "print MCdeRed([25.,0.1],0.763,'mag',zeroP=3631.0,ebmv=[1.1,0.1])"
   ]
  },
  {
   "cell_type": "code",
   "execution_count": null,
   "metadata": {
    "collapsed": true
   },
   "outputs": [],
   "source": []
  }
 ],
 "metadata": {
  "kernelspec": {
   "display_name": "Python 2",
   "language": "python",
   "name": "python2"
  },
  "language_info": {
   "codemirror_mode": {
    "name": "ipython",
    "version": 2
   },
   "file_extension": ".py",
   "mimetype": "text/x-python",
   "name": "python",
   "nbconvert_exporter": "python",
   "pygments_lexer": "ipython2",
   "version": "2.7.10"
  }
 },
 "nbformat": 4,
 "nbformat_minor": 0
}
