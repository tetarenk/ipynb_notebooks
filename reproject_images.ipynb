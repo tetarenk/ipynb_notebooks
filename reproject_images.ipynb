{
 "cells": [
  {
   "cell_type": "code",
   "execution_count": 11,
   "metadata": {},
   "outputs": [],
   "source": [
    "import numpy as np\n",
    "from astropy.io import fits\n",
    "from astropy.wcs import WCS\n",
    "from reproject import reproject_interp\n",
    "from astropy import wcs\n",
    "import os\n",
    "from spectral_cube import SpectralCube\n",
    "import warnings\n",
    "warnings.filterwarnings('ignore')"
   ]
  },
  {
   "cell_type": "code",
   "execution_count": 12,
   "metadata": {},
   "outputs": [],
   "source": [
    "datadir='/path/to/fits/'\n",
    "fits_file_org=datadir+'fits1.fits'\n",
    "fits_file_proj=datadir+'fits2.fits'\n",
    "fits_out=datadir+'fits2_jypbm_regrids.fits'\n",
    "\n",
    "hdu1 = fits.open(fits_file_org)[0]\n",
    "hdu2 = fits.open(fits_file_proj)[0]\n"
   ]
  },
  {
   "cell_type": "code",
   "execution_count": null,
   "metadata": {},
   "outputs": [],
   "source": [
    "#WCS axes have to match for both files\n",
    "#may need to rewrite fits_file.fits\n",
    "\n",
    "#(1) cut dimension 1 axis\n",
    "os.system('rm -rf '+fits_file_proj.strip('.fits')+'_squeeze.fits')\n",
    "data=hdu2.data.squeeze()\n",
    "header=hdu2.header\n",
    "wmap=wcs.WCS(header)\n",
    "new_wmap=wmap.dropaxis(2)\n",
    "\n",
    "#(2)swap X and Y axes\n",
    "new_wmap2=new_wmap.swapaxes(0,1)\n",
    "\n",
    "#(3) rewrite wcs to header\n",
    "new_header=new_wmap2.to_header()\n",
    "\n",
    "#(4) make new fits file with all changes\n",
    "newfits=fits.PrimaryHDU(data=data,header=new_header)\n",
    "newfits.writeto(fits_file_proj.strip('.fits')+'_squeeze.fits')\n",
    "fits2new=fits_file_proj.strip('.fits')+'_squeeze.fits'\n",
    "hdu2 = fits.open(fits2new)[0]\n",
    "\n",
    "#(optional) may need to fix header as well\n",
    "#hdu2.header.remove('CRPIX3')\n",
    "#hdu2.header.remove('CRVAL3')\n",
    "#hdu2.header.remove('CDELT3')\n",
    "#hdu2.header.remove('CUNIT3')\n",
    "#hdu2.header.remove('CTYPE3')\n",
    "#hdu2.header['WCSAXES']=2\n",
    "#hdu1.header['BUNIT']='Jy/bm'\n",
    "\n"
   ]
  },
  {
   "cell_type": "code",
   "execution_count": null,
   "metadata": {},
   "outputs": [],
   "source": [
    "#for 2D images\n",
    "array, footprint = reproject_interp(hdu2, hdu1.header)\n",
    "fits.writeto(fits_out, array, hdu1.header, clobber=True)"
   ]
  },
  {
   "cell_type": "code",
   "execution_count": null,
   "metadata": {},
   "outputs": [],
   "source": [
    "#for 3D cubes\n",
    "header = fits.getdata(fits_file_org, header=True)[1]\n",
    "X=SpectralCube.read(fitsfile)\n",
    "X.allow_huge_operations=True\n",
    "X.reproject(header)\n",
    "X.write(fits_out)"
   ]
  }
 ],
 "metadata": {
  "kernelspec": {
   "display_name": "Python 2",
   "language": "python",
   "name": "python2"
  },
  "language_info": {
   "codemirror_mode": {
    "name": "ipython",
    "version": 2
   },
   "file_extension": ".py",
   "mimetype": "text/x-python",
   "name": "python",
   "nbconvert_exporter": "python",
   "pygments_lexer": "ipython2",
   "version": "2.7.15"
  }
 },
 "nbformat": 4,
 "nbformat_minor": 2
}
