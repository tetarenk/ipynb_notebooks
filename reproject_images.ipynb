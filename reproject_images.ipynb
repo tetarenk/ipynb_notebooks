{
 "cells": [
  {
   "cell_type": "code",
   "execution_count": 7,
   "metadata": {},
   "outputs": [],
   "source": [
    "from astropy.io import fits\n",
    "from reproject import reproject_interp\n",
    "import warnings\n",
    "warnings.filterwarnings('ignore')"
   ]
  },
  {
   "cell_type": "code",
   "execution_count": 8,
   "metadata": {},
   "outputs": [],
   "source": [
    "datadir='/Users/atetarenko/Desktop/Research/roberto_GC/fits_ims/'\n",
    "fits_file_org=datadir+'WISE-Band-311.fits'\n",
    "fits_file_proj=datadir+'v1.0.2_super_gc_13pca_map50_crop_cutout_1594.fits'\n",
    "fits_out=datadir+'v1.0.2_super_gc_13pca_map50_crop_cutout_1594_regrid2.fits'\n",
    "\n",
    "hdu1 = fits.open(fits_file_org)[0]\n",
    "hdu2 = fits.open(fits_file_proj)[0]\n",
    "\n",
    "array, footprint = reproject_interp(hdu2, hdu1.header)\n",
    "fits.writeto(fits_out, array, hdu1.header, clobber=True)"
   ]
  },
  {
   "cell_type": "code",
   "execution_count": null,
   "metadata": {},
   "outputs": [],
   "source": []
  }
 ],
 "metadata": {
  "kernelspec": {
   "display_name": "Python 2",
   "language": "python",
   "name": "python2"
  },
  "language_info": {
   "codemirror_mode": {
    "name": "ipython",
    "version": 2
   },
   "file_extension": ".py",
   "mimetype": "text/x-python",
   "name": "python",
   "nbconvert_exporter": "python",
   "pygments_lexer": "ipython2",
   "version": "2.7.15"
  }
 },
 "nbformat": 4,
 "nbformat_minor": 2
}
