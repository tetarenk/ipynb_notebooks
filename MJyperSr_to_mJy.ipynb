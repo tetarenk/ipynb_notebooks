{
 "cells": [
  {
   "cell_type": "code",
   "execution_count": 2,
   "metadata": {},
   "outputs": [],
   "source": [
    "import numpy as np\n",
    "from astropy.io import fits\n",
    "from astropy import wcs"
   ]
  },
  {
   "cell_type": "code",
   "execution_count": 3,
   "metadata": {},
   "outputs": [],
   "source": [
    "def convert_flux_fac(cell_size,beam_size,degppix):\n",
    "    '''Conversion factor from MJy/sr to mJy/bm'''\n",
    "    srpdeg2=0.0003046118\n",
    "    srppix=degppix**2*srpdeg2\n",
    "    jyppix=srppix*1e6\n",
    "    mjypbm=jyppix*1e3*(beam_size**2/cell_size**2)\n",
    "    return(mjypbm)"
   ]
  },
  {
   "cell_type": "code",
   "execution_count": 5,
   "metadata": {},
   "outputs": [],
   "source": [
    "datadir = '/Users/atetarenko/Desktop/Research/roberto_GC/fits_ims/'\n",
    "fits_file1=datadir+'WISE-Band-311.fits'\n",
    "fits_out=datadir+'WISE-Band-311_mJy.fits'\n",
    "\n",
    "hdu1=fits.open(fits_file1)[0]\n",
    "data=hdu1.data\n",
    "header=hdu1.header\n",
    "degppix=abs(header['CDELT1'])\n",
    "beam_size=8.5\n",
    "cell_size=1.5\n",
    "\n",
    "conv_factor=convert_flux_fac(cell_size,beam_size,degppix)"
   ]
  },
  {
   "cell_type": "code",
   "execution_count": null,
   "metadata": {},
   "outputs": [],
   "source": [
    "fits.writeto(fits_out,data*conv_factor,header=header)"
   ]
  }
 ],
 "metadata": {
  "kernelspec": {
   "display_name": "Python 2",
   "language": "python",
   "name": "python2"
  },
  "language_info": {
   "codemirror_mode": {
    "name": "ipython",
    "version": 2
   },
   "file_extension": ".py",
   "mimetype": "text/x-python",
   "name": "python",
   "nbconvert_exporter": "python",
   "pygments_lexer": "ipython2",
   "version": "2.7.15"
  }
 },
 "nbformat": 4,
 "nbformat_minor": 2
}
