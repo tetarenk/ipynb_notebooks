{
 "cells": [
  {
   "cell_type": "code",
   "execution_count": 2,
   "metadata": {
    "collapsed": false
   },
   "outputs": [],
   "source": [
    "import numpy as np\n",
    "import astropy.units as u\n",
    "import astropy.constants as con\n",
    "import matplotlib.pyplot as plt\n",
    "%matplotlib inline"
   ]
  },
  {
   "cell_type": "markdown",
   "metadata": {},
   "source": [
    "The Herschel GBS group seems to follow the route of [Könyves et al. (2010)](http://adsabs.harvard.edu/abs/2010A%26A...518L.106K), which in turn cites [Beckwith et al. (1990)](http://adsabs.harvard.edu/abs/1990AJ.....99..924B) for the opacity law: $\\kappa_{\\nu} = 0.1 \\mathrm{cm^2~g^{-1}} (\\nu/\\mathrm{1~THz})^\\beta$ and [Hildebrand (1983)](http://adsabs.harvard.edu/abs/1983QJRAS..24..267H) for $\\beta=2$.  \n",
    "\n",
    "Radiative transfer gives us that $I_{\\nu}(\\nu) = B_{\\nu}(\\nu,T) [1-\\exp(-\\tau_\\nu)] = B_{\\nu}(\\nu,T) [1-\\exp(-\\kappa_\\nu\\Sigma)]$. Solving for $\\Sigma$ gives\n",
    "\n",
    "$$ \\Sigma_{\\mathrm{dust}} = \\frac{I_\\nu(\\nu)}{B_\\nu(\\nu,T)\\kappa_\\nu}$$\n",
    "and $\\Sigma_{\\mathrm{gas}} = \\Gamma \\Sigma_{\\mathrm{dust}}$ where $\\Gamma = 100$ is the canonical (i.e., I have to find a reference) gas-to-dust ratio.  Note that the $\\kappa_\\nu$ quoted above already includes the $\\Gamma$ factor, which should probably be stated in the Köynves article somewhere..."
   ]
  },
  {
   "cell_type": "code",
   "execution_count": 3,
   "metadata": {
    "collapsed": false
   },
   "outputs": [],
   "source": [
    "def bnu(nu,T):\n",
    "    bnu = 2*con.h*nu**3/con.c**2*(1/(np.exp(con.h*nu/(con.k_B*T))-1))/u.sr\n",
    "    return bnu.to(u.MJy/u.sr)"
   ]
  },
  {
   "cell_type": "code",
   "execution_count": 4,
   "metadata": {
    "collapsed": false
   },
   "outputs": [
    {
     "data": {
      "text/latex": [
       "$[0.14380083,~0.07336777,~0.035950207] \\; \\mathrm{\\frac{cm^{2}}{g}}$"
      ],
      "text/plain": [
       "<Quantity [ 0.14380083, 0.07336777, 0.03595021] cm2 / g>"
      ]
     },
     "execution_count": 4,
     "metadata": {},
     "output_type": "execute_result"
    }
   ],
   "source": [
    "lam = np.array([250,350,500])*u.um\n",
    "nu = (con.c/lam).to(u.GHz)\n",
    "beta = 2.0\n",
    "kappa = 0.1*(nu/u.THz)**beta * u.cm**2/u.g\n",
    "kappa.to(u.cm**2/u.g)"
   ]
  },
  {
   "cell_type": "code",
   "execution_count": 5,
   "metadata": {
    "collapsed": false
   },
   "outputs": [
    {
     "data": {
      "text/latex": [
       "$[0.59402307,~1.0206093,~2.4339458] \\; \\mathrm{\\frac{M_{\\odot}\\,sr}{MJy\\,pc^{2}}}$"
      ],
      "text/plain": [
       "<Quantity [ 0.59402307, 1.02060932, 2.43394581] solMass sr / (MJy pc2)>"
      ]
     },
     "execution_count": 5,
     "metadata": {},
     "output_type": "execute_result"
    }
   ],
   "source": [
    "((bnu(nu,15*u.K)*kappa.to(u.pc**2/u.Msun)))**(-1)"
   ]
  },
  {
   "cell_type": "markdown",
   "metadata": {},
   "source": [
    "Thus, at 350 $\\mu$m, assuming $T_{\\mathrm{dust}}=15$ K the conversion between intensity and mass is \n",
    "\n",
    "$$\\Sigma_{\\mathrm{gas}} = 1.02~M_{\\odot}~\\mathrm{pc}^{-2} \\left[\\frac{I_{\\nu}(\\nu)}{\\mathrm{MJy~sr}^{-1}}\\right]$$"
   ]
  },
  {
   "cell_type": "code",
   "execution_count": 6,
   "metadata": {
    "collapsed": false
   },
   "outputs": [],
   "source": [
    "Tgas = 10*u.K\n",
    "mu = 2.38\n",
    "cs = ((con.k_B*Tgas/(mu*con.m_p))**0.5).to(u.m/u.s)\n",
    "lam = (2*cs**2/con.G).to(u.Msun/u.pc)"
   ]
  },
  {
   "cell_type": "code",
   "execution_count": 7,
   "metadata": {
    "collapsed": false
   },
   "outputs": [
    {
     "data": {
      "text/latex": [
       "$16.123401 \\; \\mathrm{\\frac{M_{\\odot}}{pc}}$"
      ],
      "text/plain": [
       "<Quantity 16.12340075655668 solMass / pc>"
      ]
     },
     "execution_count": 7,
     "metadata": {},
     "output_type": "execute_result"
    }
   ],
   "source": [
    "lam"
   ]
  },
  {
   "cell_type": "markdown",
   "metadata": {},
   "source": [
    "Chen and Ostriker give the critical mass for a cylinder as \n",
    "$$ 14 \\frac{c_s}{\\sqrt{G^3} B_{\\mathrm{ps}}}$$"
   ]
  },
  {
   "cell_type": "code",
   "execution_count": 8,
   "metadata": {
    "collapsed": false
   },
   "outputs": [],
   "source": [
    "Bps = 3e-5*(u.g**0.5/u.s/u.cm**0.5)\n",
    "Mcrit = 14*cs**4/(con.G**1.5*Bps)\n",
    "W=0.1*u.pc"
   ]
  },
  {
   "cell_type": "code",
   "execution_count": 9,
   "metadata": {
    "collapsed": false
   },
   "outputs": [
    {
     "data": {
      "text/latex": [
       "$1.6368297 \\; \\mathrm{M_{\\odot}}$"
      ],
      "text/plain": [
       "<Quantity 1.6368297480819811 solMass>"
      ]
     },
     "execution_count": 9,
     "metadata": {},
     "output_type": "execute_result"
    }
   ],
   "source": [
    "Mcrit.to(u.Msun)"
   ]
  },
  {
   "cell_type": "code",
   "execution_count": 10,
   "metadata": {
    "collapsed": false
   },
   "outputs": [],
   "source": [
    "LamMag = Bps*W/(2*np.pi*con.G**0.5)"
   ]
  },
  {
   "cell_type": "code",
   "execution_count": 11,
   "metadata": {
    "collapsed": false
   },
   "outputs": [
    {
     "data": {
      "text/latex": [
       "$8.8470395 \\; \\mathrm{\\frac{M_{\\odot}}{pc}}$"
      ],
      "text/plain": [
       "<Quantity 8.847039455537114 solMass / pc>"
      ]
     },
     "execution_count": 11,
     "metadata": {},
     "output_type": "execute_result"
    }
   ],
   "source": [
    "LamMag.to(u.Msun/u.pc)"
   ]
  },
  {
   "cell_type": "code",
   "execution_count": null,
   "metadata": {
    "collapsed": false
   },
   "outputs": [],
   "source": []
  }
 ],
 "metadata": {
  "kernelspec": {
   "display_name": "Python 2",
   "language": "python",
   "name": "python2"
  },
  "language_info": {
   "codemirror_mode": {
    "name": "ipython",
    "version": 2
   },
   "file_extension": ".py",
   "mimetype": "text/x-python",
   "name": "python",
   "nbconvert_exporter": "python",
   "pygments_lexer": "ipython2",
   "version": "2.7.10"
  }
 },
 "nbformat": 4,
 "nbformat_minor": 0
}
