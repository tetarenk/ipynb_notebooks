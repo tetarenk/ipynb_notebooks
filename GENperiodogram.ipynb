{
 "cells": [
  {
   "cell_type": "code",
   "execution_count": 2,
   "metadata": {
    "collapsed": true
   },
   "outputs": [],
   "source": [
    "import numpy as np\n",
    "import matplotlib.pyplot as plt\n",
    "import astroML.time_series\n",
    "import os\n",
    "%matplotlib inline"
   ]
  },
  {
   "cell_type": "markdown",
   "metadata": {},
   "source": [
    "##Generalized Periodogram: \n",
    "* Theory/math detailed in [Zechmeister & Kürster, 2009](https://arxiv.org/abs/0901.2573)\n",
    "* Code detailed [here](http://www.astroml.org/book_figures/chapter10/fig_LS_sg_comparison.html)"
   ]
  },
  {
   "cell_type": "code",
   "execution_count": 3,
   "metadata": {
    "collapsed": true
   },
   "outputs": [],
   "source": [
    "def lomb_scargle(time,flux,fluxerr,interval):\n",
    "    '''Creates generalized periodogram using Zechmeister & Kürster, 2009 formalism,\n",
    "    implemented in astroML package\n",
    "    NOTE:sig is significance levels; 0.1=90%, 0.01=99%'''\n",
    "    secondsElapsed=[]\n",
    "    for i in range(0,len(time)):\n",
    "        secondsElapsed.append((time[i]-time[0])*24*60*60+interval/2.0)\n",
    "    omega=np.logspace(np.log10(2.*np.pi/(secondsElapsed[-1])),np.log10(2*np.pi/(2.*interval)),10000)\n",
    "    lsg,sig=astroML.time_series.lomb_scargle(secondsElapsed,flux,fluxerr,omega,\\\n",
    "                                             generalized=True,significance=[0.1,0.01])\n",
    "    return(lsg,sig,omega)"
   ]
  },
  {
   "cell_type": "code",
   "execution_count": null,
   "metadata": {
    "collapsed": true
   },
   "outputs": [],
   "source": [
    "#load lightcurves\n",
    "path_dir='/path/to/files/'\n",
    "\n",
    "#data file of mjd, flux, and flux error columns\n",
    "data=np.loadtxt(path_dir+'lightcurve_file.txt')\n",
    "\n",
    "mjd=data[:,0]\n",
    "flux=data[:,1]\n",
    "fluxerr=data[:,2]\n",
    "time_bin=2.# in seconds\n",
    "\n",
    "lsg,sig,omega=lomb_scargle(mjd,flux,fluxerr,time_bin)"
   ]
  },
  {
   "cell_type": "code",
   "execution_count": null,
   "metadata": {
    "collapsed": true
   },
   "outputs": [],
   "source": [
    "#log scale plot\n",
    "fig=plt.figure()\n",
    "ax1=fig.add_subplot(111)\n",
    "ax1.plot(omega/(2*np.pi),lsg)\n",
    "plt.xlim(min(omega)/(2.*np.pi),max(omega)/(2.*np.pi))\n",
    "plt.xscale(\"log\")\n",
    "plt.yscale(\"log\")\n",
    "ax1.plot([omega[0]/(2*np.pi), omega[-1]/(2*np.pi)], [sig[0], sig[0]], '--', c='green',lw=2)\n",
    "ax1.plot([omega[0]/(2*np.pi), omega[-1]/(2*np.pi)], [sig[1], sig[1]], '--', c='red',lw=2)\n",
    "plt.xlabel('Frequency, $\\\\nu$ (Hz)',size=16)\n",
    "plt.ylabel('Power',size=16)"
   ]
  },
  {
   "cell_type": "code",
   "execution_count": null,
   "metadata": {
    "collapsed": true
   },
   "outputs": [],
   "source": [
    "#linear scale plot\n",
    "fig=plt.figure()\n",
    "ax1=fig.add_subplot(111)\n",
    "ax1.plot(omega/(2*np.pi),(lsg),marker='',linestyle='-')\n",
    "ax1.plot([omega[0]/(2*np.pi), omega[-1]/(2*np.pi)], [sig[0], sig[0]], '--', c='green',lw=2)\n",
    "ax1.plot([omega[0]/(2*np.pi), omega[-1]/(2*np.pi)], [sig[1], sig[1]], '--', c='red',lw=2)\n",
    "plt.xscale(\"log\")\n",
    "plt.xlim(min(omega)/(2.*np.pi),max(omega)/(2.*np.pi))\n",
    "plt.xlabel('Frequency, $\\\\nu$ (Hz)',size=16)\n",
    "plt.ylabel('Power',size=16)"
   ]
  }
 ],
 "metadata": {
  "kernelspec": {
   "display_name": "Python 2",
   "language": "python",
   "name": "python2"
  },
  "language_info": {
   "codemirror_mode": {
    "name": "ipython",
    "version": 2
   },
   "file_extension": ".py",
   "mimetype": "text/x-python",
   "name": "python",
   "nbconvert_exporter": "python",
   "pygments_lexer": "ipython2",
   "version": "2.7.13"
  }
 },
 "nbformat": 4,
 "nbformat_minor": 0
}
