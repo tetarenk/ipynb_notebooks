{
 "cells": [
  {
   "cell_type": "code",
   "execution_count": 53,
   "metadata": {
    "collapsed": false
   },
   "outputs": [],
   "source": [
    "from numpy import sqrt, abs, pi, cos, sin, max, ones, array\n",
    "from astropy import coordinates\n",
    "from astropy import units as u\n",
    "from astropy.coordinates import SkyCoord\n",
    "from galpy.orbit import Orbit\n",
    "import numpy\n",
    "import math\n",
    "import sys\n",
    "import numpy as np\n",
    "import matplotlib.pyplot as plt\n",
    "%matplotlib inline"
   ]
  },
  {
   "cell_type": "code",
   "execution_count": 94,
   "metadata": {
    "collapsed": false
   },
   "outputs": [],
   "source": [
    "#not wrt circular rotation!\n",
    "def gal_uvw(distance, lsr, ra, dec, pmra, pmdec, vrad, plx):\n",
    "    '''Calculate UVW 3D Space Velocities\n",
    "    Translated from IDL to Python (not by me)\n",
    "    \n",
    "    Follows the general outline of Johnson & Soderblom (1987, AJ, 93,864)\n",
    "    except that U is positive outward toward the Galactic *anti*center, and\n",
    "    the J2000 transformation matrix to Galactic coordinates is taken from\n",
    "    the introduction to the Hipparcos catalog.\n",
    "    \n",
    "    Input:\n",
    "    distance: distance (pc)\n",
    "    lsr: correct output velcocities for solar motion (bool)\n",
    "    ra: ra (decimal degrees)\n",
    "    dec: dec (decimal degrees)\n",
    "    pmra: proper motion in ra (mas/yr)\n",
    "    pmdec: proper motion in dec (mas/yr)\n",
    "    vrad: radial velocity (km/s)\n",
    "    plx: parallax (mas; only set if no distance provided)\n",
    "    \n",
    "    Output\n",
    "    U: Velocity (km/s) positive toward the Galactic *anti*center\n",
    "    V: Velocity (km/s) positive in the direction of Galactic rotation\n",
    "    W: Velocity (km/s) positive toward the North Galactic Pole\n",
    "    '''\n",
    "    \n",
    "    import numpy\n",
    "\n",
    "    n_params = 3\n",
    "\n",
    "    if n_params == 0:   \n",
    "        print 'Syntax - GAL_UVW, U, V, W, [/LSR, RA=, DEC=, PMRA= ,PMDEC=, VRAD='\n",
    "        print '                  Distance=, PLX='\n",
    "        print '         U, V, W - output Galactic space velocities (km/s)'\n",
    "        return None\n",
    "\n",
    "    if ra is None or dec is None:   \n",
    "        raise Exception('ERROR - The RA, Dec (J2000) position keywords must be supplied (degrees)')\n",
    "    if plx is None and distance is None:\n",
    "        raise Exception('ERROR - Either a parallax or distance must be specified')\n",
    "    if distance is not None:\n",
    "        if numpy.any(distance==0):\n",
    "            raise Exception('ERROR - All distances must be > 0')\n",
    "        plx = 1e3 / distance          #Parallax in milli-arcseconds\n",
    "    if plx is not None and numpy.any(plx==0):   \n",
    "        raise Exception('ERROR - Parallaxes must be > 0')\n",
    "\n",
    "    cosd = numpy.cos(numpy.deg2rad(dec))\n",
    "    sind = numpy.sin(numpy.deg2rad(dec))\n",
    "    cosa = numpy.cos(numpy.deg2rad(ra))\n",
    "    sina = numpy.sin(numpy.deg2rad(ra))\n",
    "\n",
    "    k = 4.74047     #Equivalent of 1 A.U/yr in km/s   \n",
    "    a_g = numpy.array([[0.0548755604, +0.4941094279, -0.8676661490],\n",
    "                [0.8734370902, -0.4448296300, -0.1980763734], \n",
    "                [0.4838350155, 0.7469822445, +0.4559837762]])\n",
    "\n",
    "    vec1 = vrad\n",
    "    vec2 = k * pmra / plx\n",
    "    vec3 = k * pmdec / plx\n",
    "\n",
    "    u = (a_g[0,0] * cosa * cosd + a_g[1,0] * sina * cosd + a_g[2,0] * sind) * vec1 + (-a_g[0,0] * sina + a_g[1,0] * cosa) * vec2 + (-a_g[0,0] * cosa * sind - a_g[1,0] * sina * sind + a_g[2,0] * cosd) * vec3\n",
    "    v = (a_g[0,1] * cosa * cosd + a_g[1,1] * sina * cosd + a_g[2,1] * sind) * vec1 + (-a_g[0,1] * sina + a_g[1,1] * cosa) * vec2 + (-a_g[0,1] * cosa * sind - a_g[1,1] * sina * sind + a_g[2,1] * cosd) * vec3\n",
    "    w = (a_g[0,2] * cosa * cosd + a_g[1,2] * sina * cosd + a_g[2,2] * sind) * vec1 + (-a_g[0,2] * sina + a_g[1,2] * cosa) * vec2 + (-a_g[0,2] * cosa * sind - a_g[1,2] * sina * sind + a_g[2,2] * cosd) * vec3\n",
    "\n",
    "    lsr_vel = numpy.array([-10.00, 5.25, 7.17])\n",
    "    if (lsr is not None):   \n",
    "        u = u + lsr_vel[0]\n",
    "        v = v + lsr_vel[1]\n",
    "        w = w + lsr_vel[2]\n",
    "\n",
    "    return (u,v,w)"
   ]
  },
  {
   "cell_type": "code",
   "execution_count": 101,
   "metadata": {
    "collapsed": false
   },
   "outputs": [
    {
     "name": "stdout",
     "output_type": "stream",
     "text": [
      "Measured U, V, W:  -221.931031549 -186.725237763 3.90835895183 km/s\n"
     ]
    }
   ],
   "source": [
    "c = SkyCoord(ra='19h15m11.5473s', dec='+10d56m44.704s', frame='icrs')\n",
    "u_ra=-3.19\n",
    "u_dec=-6.24\n",
    "Vr=12.3\n",
    "\n",
    "coo=gal_uvw(distance=8600.,lsr=True, ra=c.ra.deg, dec=c.dec.deg, pmra=u_ra, pmdec=u_dec, vrad=Vr, plx=None)\n",
    "print 'Measured U, V, W (not wrt Circ rot.): ',coo[0],coo[1],coo[2], 'km/s'"
   ]
  },
  {
   "cell_type": "code",
   "execution_count": 96,
   "metadata": {
    "collapsed": false
   },
   "outputs": [],
   "source": [
    "#wrt circular rotation!\n",
    "def UVW(rastring,decstring,d,mu_ra,mu_dec,vlos):\n",
    "    '''Calculate the peculiar velocity of a source, relative to circular motion\n",
    "    at the source l and b, assuming the source to lie in the Galactic Plane\n",
    "\n",
    "    Follows the general outline of Johnson & Soderblom (1987, AJ, 93,864), but\n",
    "    use J2000 coordinates. See Dhawan et al. (2007) for details on circular motion\n",
    "    transformation.\n",
    "\n",
    "    Input:\n",
    "    rastring: ra in hh:mm:ss.ss (string)\n",
    "    decstring: dec in dd:mm:ss.ss (string)\n",
    "    d: Source distance (kpc)\n",
    "    mu_ra: Proper motion in RA (mu_alpha*cos(delta), in mas/yr)\n",
    "    mu_dec: Proper motion in Dec (mu_delta, in mas/yr)\n",
    "    vlos: Line of sight radial velocity (km/s)\n",
    "\n",
    "    Output:\n",
    "    U: U wrt circular motion (km/s)\n",
    "    V: U wrt circular motion (km/s)\n",
    "    W: W wrt circular motion (km/s)\n",
    "    vpec: Peculiar velocity (km/s)\n",
    "\n",
    "    Written by James Miller-Jones (ICRAR - Curtin).\n",
    "    Requires installation of astropy and galpy'''\n",
    "    \n",
    "    c = SkyCoord(rastring, decstring, frame='icrs')\n",
    "    # Set up the measured orbit [RA (degree), Dec (degree), d (kpc), mu_RA (mas/yr), mu_Dec (mas/yr), v_radial (km/s)]\n",
    "    o=Orbit(vxvv=[c.ra.degree,c.dec.degree,d,mu_ra,mu_dec,vlos],radec=True,solarmotion='dehnen',ro=8.,vo=220.)\n",
    "    '''Measured U, V, W: o.U(0.),o.V(0.),o.W(0.)\n",
    "    Galactocentric radius, azimuth z: o.R(0.),o.phi(0.),o.z(0.)\n",
    "    Galactic longitude, latitude: o.ll(0.),o.bb(0.)'''\n",
    "    # Initialise a second orbit with same Galactocentric radius (R) and azimuth (phi) as true object,\n",
    "    #but zero z, vz, vR, and vT equal to expected transverse velocity at that radius.\n",
    "    #This should have circular rotation at the expected rotation curve velocity\n",
    "    '''Expected U,V,W for circular rotation, U,V,W=o2.U(0.),o2.V(0.),o2.W(0.)'''\n",
    "    o2=Orbit(vxvv=[o.R(0.)/8.,0.,1.,0.,0.,o.phi(0.)]) \n",
    "    # Calculate the expected peculiar velocity as the difference between the two, as in Dhawan et al. (2007)\n",
    "    vpec = math.sqrt(pow((o.U(0.)-o2.U(0.)),2)+pow((o.V(0.)-o2.V(0.)),2)+pow(o.W(0.),2))\n",
    "    return(o.U(0.)-o2.U(0.),o.V(0.)-o2.V(0.),o.W(0.),vpec)\n",
    "def confidenceInterval(y,sig):\n",
    "    median=np.mean(y)\n",
    "    pct15=np.percentile(y,15)\n",
    "    pct85=np.percentile(y,85)\n",
    "    list1=np.array([median,median-pct15,pct85-median])\n",
    "    return list1"
   ]
  },
  {
   "cell_type": "code",
   "execution_count": 106,
   "metadata": {
    "collapsed": false
   },
   "outputs": [
    {
     "name": "stdout",
     "output_type": "stream",
     "text": [
      "Peculiar velocity: 46.5539 km/s \n",
      "Measured U, V, W wrt Circ. Rot.:  -2.89406651373 -46.387474075 -2.66357428743 km/s\n"
     ]
    }
   ],
   "source": [
    "ra='19h15m11.5473s'\n",
    "dec='+10d56m44.704s'\n",
    "mu_ra=[-3.19,0.07]\n",
    "mu_dec=[-6.24,0.09]\n",
    "vlos=[12.3,1.]\n",
    "d=[7.,1.6,2.]\n",
    "u,v,w,vp=UVW(ra,dec,d[0],mu_ra[0],mu_dec[0],vlos[0])\n",
    "print 'Peculiar velocity: %6.4f km/s ' % vp\n",
    "print 'Measured U, V, W wrt Circ. Rot.: ',u[0],v[0],w[0], 'km/s'"
   ]
  },
  {
   "cell_type": "code",
   "execution_count": 84,
   "metadata": {
    "collapsed": false
   },
   "outputs": [
    {
     "name": "stdout",
     "output_type": "stream",
     "text": [
      "[ 51.20562326  13.17518128  12.25498786]\n",
      "[ 23.97639053  25.9996475   30.82160988]\n",
      "[-38.18096694   8.85717384   7.83369226]\n",
      "[-3.4018868   3.29198487  3.15351936]\n"
     ]
    }
   ],
   "source": [
    "# mc errors\n",
    "import numpy as np\n",
    "ra='19h15m11.5473s'\n",
    "dec='+10d56m44.704s'\n",
    "mu_ra=[-3.19,0.07]\n",
    "mu_dec=[-6.24,0.09]\n",
    "vlos=[12.3,1.]\n",
    "d=[8.6,1.6,2.]\n",
    "nsim=1000\n",
    "samplesD=np.random.normal(0,1,nsim)\n",
    "samplesmur=np.random.normal(0,1,nsim)\n",
    "samplesmud=np.random.normal(0,1,nsim)\n",
    "samplesv=np.random.normal(0,1,nsim)\n",
    "UU=[]\n",
    "VV=[]\n",
    "WW=[]\n",
    "vel=[]\n",
    "for ii in range(0,len(samplesD)):\n",
    "    if samplesD[ii]<0.:\n",
    "        D_sim = samplesD[ii]*d[1]+d[0]\n",
    "    elif samplesD[ii]>0.:\n",
    "        D_sim = samplesD[ii]*d[2]+d[0]\n",
    "    v_sim = samplesv[ii]*vlos[1]+vlos[0]\n",
    "    mur_sim = samplesmur[ii]*mu_ra[1]+mu_ra[0]\n",
    "    mud_sim = samplesmud[ii]*mu_dec[1]+mu_dec[0]\n",
    "    u,v,w,vp=UVW(ra,dec,D_sim,mur_sim,mud_sim,v_sim)\n",
    "    UU.append(u[0])\n",
    "    VV.append(v[0])\n",
    "    WW.append(w[0])\n",
    "    vel.append(vp)\n",
    "print confidenceInterval(vel,1.)\n",
    "print confidenceInterval(UU,1.)\n",
    "print confidenceInterval(VV,1.)\n",
    "print confidenceInterval(WW,1.)"
   ]
  },
  {
   "cell_type": "code",
   "execution_count": 102,
   "metadata": {
    "collapsed": false
   },
   "outputs": [
    {
     "data": {
      "text/plain": [
       "(array([  15.,   78.,  221.,  202.,  143.,   81.,   75.,   29.,   28.,\n",
       "          15.,    7.,   21.,   17.,   12.,   12.,    7.,    3.,    4.,\n",
       "           7.,    4.,    5.,    2.,    0.,    0.,    1.,    3.,    1.,\n",
       "           2.,    1.,    1.,    1.,    0.,    0.,    0.,    0.,    1.,\n",
       "           0.,    0.,    0.,    1.]),\n",
       " array([  27.9899969 ,   32.33996955,   36.68994221,   41.03991486,\n",
       "          45.38988752,   49.73986017,   54.08983283,   58.43980548,\n",
       "          62.78977814,   67.13975079,   71.48972345,   75.8396961 ,\n",
       "          80.18966876,   84.53964141,   88.88961407,   93.23958672,\n",
       "          97.58955938,  101.93953203,  106.28950469,  110.63947734,\n",
       "         114.98945   ,  119.33942265,  123.68939531,  128.03936796,\n",
       "         132.38934062,  136.73931327,  141.08928593,  145.43925858,\n",
       "         149.78923124,  154.13920389,  158.48917654,  162.8391492 ,\n",
       "         167.18912185,  171.53909451,  175.88906716,  180.23903982,\n",
       "         184.58901247,  188.93898513,  193.28895778,  197.63893044,\n",
       "         201.98890309]),\n",
       " <a list of 1 Patch objects>)"
      ]
     },
     "execution_count": 102,
     "metadata": {},
     "output_type": "execute_result"
    },
    {
     "data": {
      "image/png": "[encoded data removed]",
      "text/plain": [
       "<matplotlib.figure.Figure at 0x117a0b810>"
      ]
     },
     "metadata": {},
     "output_type": "display_data"
    },
    {
     "data": {
      "image/png": "[encoded data removed]",
      "text/plain": [
       "<matplotlib.figure.Figure at 0x117ea9cd0>"
      ]
     },
     "metadata": {},
     "output_type": "display_data"
    },
    {
     "data": {
      "image/png": "[encoded data removed]",
      "text/plain": [
       "<matplotlib.figure.Figure at 0x117b9ec50>"
      ]
     },
     "metadata": {},
     "output_type": "display_data"
    },
    {
     "data": {
      "image/png": "[encoded data removed]",
      "text/plain": [
       "<matplotlib.figure.Figure at 0x1181fd110>"
      ]
     },
     "metadata": {},
     "output_type": "display_data"
    }
   ],
   "source": [
    "plt.figure()\n",
    "plt.title('U')\n",
    "plt.hist(UU,bins=40,alpha=0.5,color='m',histtype='stepfilled')\n",
    "plt.figure()\n",
    "plt.title('V')\n",
    "plt.hist(VV,bins=40,alpha=0.5,color='m',histtype='stepfilled')\n",
    "plt.figure()\n",
    "plt.title('W')\n",
    "plt.hist(WW,bins=40,alpha=0.5,color='m',histtype='stepfilled')\n",
    "plt.figure()\n",
    "plt.title('Vpec')\n",
    "plt.hist(vel,bins=40,alpha=0.5,color='m',histtype='stepfilled')"
   ]
  },
  {
   "cell_type": "code",
   "execution_count": null,
   "metadata": {
    "collapsed": true
   },
   "outputs": [],
   "source": []
  }
 ],
 "metadata": {
  "kernelspec": {
   "display_name": "Python 2",
   "language": "python",
   "name": "python2"
  },
  "language_info": {
   "codemirror_mode": {
    "name": "ipython",
    "version": 2
   },
   "file_extension": ".py",
   "mimetype": "text/x-python",
   "name": "python",
   "nbconvert_exporter": "python",
   "pygments_lexer": "ipython2",
   "version": "2.7.13"
  }
 },
 "nbformat": 4,
 "nbformat_minor": 0
}
