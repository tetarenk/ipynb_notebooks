{
 "cells": [
  {
   "cell_type": "code",
   "execution_count": 1,
   "id": "fb73b119",
   "metadata": {},
   "outputs": [],
   "source": [
    "import numpy as np\n",
    "import matplotlib.pyplot as plt\n",
    "import emcee\n",
    "import scipy.stats as ss"
   ]
  },
  {
   "cell_type": "code",
   "execution_count": 27,
   "id": "38891483",
   "metadata": {},
   "outputs": [],
   "source": [
    "def total_model(param1,param2,param3,param4):\n",
    "    #insert some functions of param1,param2,param3,param4...\n",
    "    some_value=2*param1+param2+3*param3+param4\n",
    "    return(some_value)\n",
    "def lprior(p):\n",
    "    param1,param2,param3,param4 = p[0],p[1],p[2],p[3]\n",
    "    prior = 0.0\n",
    "    prior += ss.norm.logpdf(param1,loc=5.,scale=3)\n",
    "    prior += ss.norm.logpdf(param2,loc=3.,scale=1.)+ss.uniform.logpdf(param2,loc=0.,scale=10)\n",
    "    prior += ss.norm.logpdf(param3,loc=2.,scale=1.)\n",
    "    prior += ss.norm.logpdf(param4,loc=3.,scale=2.)+ss.uniform.logpdf(param4,loc=0.,scale=10)\n",
    "    if np.isnan(prior):\n",
    "        return(-np.inf)\n",
    "    return(prior)\n",
    "def log_probability(p):\n",
    "    param1,param2,param3,param4 = p[0],p[1],p[2],p[3]\n",
    "    model= total_model(param1,param2,param3,param4)\n",
    "    lp = lprior(p) + np.nansum(np.log(model))\n",
    "    if np.isnan(lp):\n",
    "        return(-np.inf)\n",
    "    return lp\n",
    "def confidenceInterval(y):\n",
    "    median=np.median(y)\n",
    "    pct15=np.percentile(y,15)\n",
    "    pct85=np.percentile(y,85)\n",
    "    list1=np.array([median,pct15,pct85])\n",
    "    return list1"
   ]
  },
  {
   "cell_type": "code",
   "execution_count": 28,
   "id": "482024cb",
   "metadata": {},
   "outputs": [],
   "source": [
    "nSamp=200\n",
    "nBurn=100\n",
    "ndim=4\n",
    "nwalkers=10*ndim\n",
    "\n",
    "guess=[5,3,2,3]\n",
    "p0 = np.zeros((nwalkers,ndim))\n",
    "for idx,thisguess in enumerate(guess):\n",
    "    p0[:,idx] = (np.random.randn(nwalkers)*0.001+1.0)*thisguess\n"
   ]
  },
  {
   "cell_type": "code",
   "execution_count": 29,
   "id": "9de2f17b",
   "metadata": {},
   "outputs": [
    {
     "name": "stderr",
     "output_type": "stream",
     "text": [
      "/var/folders/f4/vlzp24jx6r9962ljc6g1mcn00000gn/T/ipykernel_89771/579553167.py:18: RuntimeWarning: invalid value encountered in log\n",
      "  lp = lprior(p) + np.nansum(np.log(model))\n"
     ]
    }
   ],
   "source": [
    "#sample\n",
    "sampler = emcee.EnsembleSampler(nwalkers, ndim, log_probability)\n",
    "pos,prob,state=sampler.run_mcmc(p0, nBurn)\n",
    "sampler.reset()\n",
    "pos,prob,state=sampler.run_mcmc(pos, nSamp)"
   ]
  },
  {
   "cell_type": "code",
   "execution_count": 30,
   "id": "ce4e530e",
   "metadata": {},
   "outputs": [],
   "source": [
    "#print out distribution\n",
    "samples = total_model(sampler.flatchain[:,0],sampler.flatchain[:,1],sampler.flatchain[:,2],sampler.flatchain[:,3])\n",
    "valu=confidenceInterval(samples)"
   ]
  },
  {
   "cell_type": "code",
   "execution_count": 31,
   "id": "18dc9585",
   "metadata": {},
   "outputs": [
    {
     "name": "stdout",
     "output_type": "stream",
     "text": [
      "Best estimation of thing :  25.838741276701388\n",
      "Upper error :  6.616662953869447\n",
      "Lower error :  6.894353849918538\n"
     ]
    },
    {
     "data": {
      "image/png": "[encoded data removed]",
      "text/plain": [
       "<Figure size 432x288 with 1 Axes>"
      ]
     },
     "metadata": {
      "needs_background": "light"
     },
     "output_type": "display_data"
    }
   ],
   "source": [
    "#plot histogram\n",
    "fig=plt.figure()\n",
    "ax1=plt.subplot(111)\n",
    "ax1.hist(samples, bins = 20, edgecolor='black', linewidth=1.2, color='red',alpha=0.5)\n",
    "ax1.axvline(x=valu[2], color='k', linestyle=':')\n",
    "ax1.axvline(x=valu[0], color='k', linestyle='-.')\n",
    "ax1.axvline(x=valu[1], color='k', linestyle=':')\n",
    "ax1.set_xlabel('Calculated Thing', fontsize = 18)\n",
    "ax1.set_ylabel('$\\#$ Samples', fontsize =18)\n",
    "plt.tick_params(axis ='both',which='both',direction = 'in', top=True, right=True, labelsize = 16, pad=2)\n",
    "plt.minorticks_on()\n",
    "plt.tight_layout()\n",
    "\n",
    "#print out results\n",
    "print(\"Best estimation of thing : \", valu[0]) \n",
    "print(\"Upper error : \", (valu[2] - valu[0]))\n",
    "print(\"Lower error : \", (valu[0] - valu[1])) \n"
   ]
  },
  {
   "cell_type": "code",
   "execution_count": null,
   "id": "45aa6a4f",
   "metadata": {},
   "outputs": [],
   "source": []
  }
 ],
 "metadata": {
  "kernelspec": {
   "display_name": "Python 3 (ipykernel)",
   "language": "python",
   "name": "python3"
  },
  "language_info": {
   "codemirror_mode": {
    "name": "ipython",
    "version": 3
   },
   "file_extension": ".py",
   "mimetype": "text/x-python",
   "name": "python",
   "nbconvert_exporter": "python",
   "pygments_lexer": "ipython3",
   "version": "3.9.7"
  }
 },
 "nbformat": 4,
 "nbformat_minor": 5
}
