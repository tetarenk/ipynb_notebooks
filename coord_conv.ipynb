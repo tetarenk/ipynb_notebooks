{
 "cells": [
  {
   "cell_type": "code",
   "execution_count": 1,
   "metadata": {},
   "outputs": [],
   "source": [
    "from astropy import units as u\n",
    "from astropy.coordinates import SkyCoord\n",
    "import numpy as np"
   ]
  },
  {
   "cell_type": "code",
   "execution_count": 2,
   "metadata": {},
   "outputs": [
    {
     "name": "stdout",
     "output_type": "stream",
     "text": [
      "hms_tuple(h=17.0, m=45.0, s=39.08687065529932)\n",
      "dms_tuple(d=-29.0, m=-23.0, s=-8.045978060219454)\n"
     ]
    }
   ],
   "source": [
    "#galactic to J2000\n",
    "c = SkyCoord(l=359.62*u.degree, b=-0.24*u.degree, frame='galactic')\n",
    "c1=c.transform_to('icrs') \n",
    "print c1.ra.hms\n",
    "print c1.dec.dms"
   ]
  },
  {
   "cell_type": "code",
   "execution_count": 7,
   "metadata": {},
   "outputs": [
    {
     "name": "stdout",
     "output_type": "stream",
     "text": [
      "359.62\n",
      "-0.24\n"
     ]
    }
   ],
   "source": [
    "#J2000 to galactic\n",
    "c = SkyCoord(ra='17h45m39.08687065531211s', dec='-29d23m8.045978060193875s', frame='icrs')\n",
    "c1=c.transform_to('galactic') \n",
    "print c1.l.deg\n",
    "print c1.b.deg"
   ]
  },
  {
   "cell_type": "code",
   "execution_count": 20,
   "metadata": {},
   "outputs": [
    {
     "name": "stdout",
     "output_type": "stream",
     "text": [
      "13.6820654557\n"
     ]
    }
   ],
   "source": [
    "#sky separation\n",
    "c1=SkyCoord(l=359.62*u.degree, b=-0.24*u.degree, frame='galactic')\n",
    "c2=SkyCoord(l=359.44*u.degree, b=-0.10*u.degree, frame='galactic')\n",
    "print c1.separation(c2).arcmin"
   ]
  },
  {
   "cell_type": "code",
   "execution_count": null,
   "metadata": {},
   "outputs": [],
   "source": []
  }
 ],
 "metadata": {
  "kernelspec": {
   "display_name": "Python 2",
   "language": "python",
   "name": "python2"
  },
  "language_info": {
   "codemirror_mode": {
    "name": "ipython",
    "version": 2
   },
   "file_extension": ".py",
   "mimetype": "text/x-python",
   "name": "python",
   "nbconvert_exporter": "python",
   "pygments_lexer": "ipython2",
   "version": "2.7.15"
  }
 },
 "nbformat": 4,
 "nbformat_minor": 2
}
