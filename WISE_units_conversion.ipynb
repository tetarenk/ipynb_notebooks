{
 "cells": [
  {
   "cell_type": "code",
   "execution_count": 11,
   "metadata": {},
   "outputs": [],
   "source": [
    "import numpy as np\n",
    "from astropy.io import fits\n",
    "from astropy import wcs"
   ]
  },
  {
   "cell_type": "code",
   "execution_count": 12,
   "metadata": {},
   "outputs": [],
   "source": [
    "def pre_fac(ZP):\n",
    "    '''Calculate proper Jy/pix conversion factor using specific band ZP'''\n",
    "    val=0.4*(22.5+ZP-8.9)\n",
    "    return(10**(-1.*val))\n",
    "def convert_wise(W_band):\n",
    "    '''Conversion factor for WISE images to real units of mJy/beam'''\n",
    "    ZP={}\n",
    "    ZP.update({'W1': 2.683, 'W2': 3.319, 'W3': 5.242, 'W4':6.604})\n",
    "    bm={}\n",
    "    bm.update({'W1': 6.1, 'W2': 6.4, 'W3': 6.5, 'W4':12.})\n",
    "    cell={}\n",
    "    cell.update({'W1': 2.75, 'W2': 2.75, 'W3': 2.75, 'W4':5.5})\n",
    "    new_jyppix=pre_fac(ZP[W_band])\n",
    "    new_jypbeam=new_jyppix*1e3*(bm[W_band]**2/cell[W_band]**2)\n",
    "    return(new_jypbeam)"
   ]
  },
  {
   "cell_type": "code",
   "execution_count": 13,
   "metadata": {},
   "outputs": [],
   "source": [
    "datadir = '/path/to/fits/'\n",
    "fits_file1=datadir+'im.fits'\n",
    "fits_out=datadir+'im_mJypbm.fits'\n",
    "\n",
    "hdu1=fits.open(fits_file1)[0]\n",
    "data=hdu1.data\n",
    "header=hdu1.header\n",
    "header['BUNIT']='mJy/bm'\n",
    "#W1:3.4, W2:4.6, W3:12, W4:22 microns\n",
    "W_band='W3'\n",
    "\n",
    "conv_factor_WISE=convert_wise(W_band)"
   ]
  },
  {
   "cell_type": "code",
   "execution_count": 14,
   "metadata": {},
   "outputs": [],
   "source": [
    "fits.writeto(fits_out,data*conv_factor_WISE,header=header)"
   ]
  },
  {
   "cell_type": "code",
   "execution_count": null,
   "metadata": {},
   "outputs": [],
   "source": []
  }
 ],
 "metadata": {
  "kernelspec": {
   "display_name": "Python 2",
   "language": "python",
   "name": "python2"
  },
  "language_info": {
   "codemirror_mode": {
    "name": "ipython",
    "version": 2
   },
   "file_extension": ".py",
   "mimetype": "text/x-python",
   "name": "python",
   "nbconvert_exporter": "python",
   "pygments_lexer": "ipython2",
   "version": "2.7.15"
  }
 },
 "nbformat": 4,
 "nbformat_minor": 2
}
