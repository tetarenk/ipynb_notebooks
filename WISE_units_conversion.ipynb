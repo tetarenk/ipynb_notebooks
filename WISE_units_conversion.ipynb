{
 "cells": [
  {
   "cell_type": "code",
   "execution_count": 2,
   "metadata": {},
   "outputs": [],
   "source": [
    "import numpy as np\n",
    "from astropy.io import fits\n",
    "from astropy import wcs"
   ]
  },
  {
   "cell_type": "code",
   "execution_count": 3,
   "metadata": {},
   "outputs": [],
   "source": [
    "#ZP vals for WISE bands-- 1,2,3,4=2.683,3.319,5.242,6.604\n",
    "def pre_fac(ZP):\n",
    "    '''Calculate proper Jy/pix conversion factor using specific band ZP'''\n",
    "    val=0.4*(22.5+ZP-8.9)\n",
    "    return(10**(-1.*val))\n",
    "def convert_wise(cell_size,beam_size,W_band):\n",
    "    '''Conversion factor for WISE images to real units of mJy/beam'''\n",
    "    ZP={}\n",
    "    ZP.update({'W1': 2.683, 'W2': 3.319, 'W3': 5.242, 'W4':6.604})\n",
    "    new_jyppix=pre_fac(ZP[W_band])\n",
    "    new_jypbeam=new_jyppix*1e3*(beam_size**2/cell_size**2)\n",
    "    return(new_jypbeam)"
   ]
  },
  {
   "cell_type": "code",
   "execution_count": 5,
   "metadata": {},
   "outputs": [],
   "source": [
    "datadir = '/Users/atetarenko/Desktop/Research/roberto_GC/fits_ims/'\n",
    "fits_file1=datadir+'WISE-Band-311.fits'\n",
    "fits_out=datadir+'WISE-Band-311_mJy.fits'\n",
    "\n",
    "hdu1=fits.open(fits_file1)[0]\n",
    "data=hdu1.data\n",
    "header=hdu1.header\n",
    "beam_size=8.5\n",
    "cell_size=1.5\n",
    "W_band='W3'\n",
    "\n",
    "conv_factor_WISE=convert_wise(cell_size,beam_size,W_band)"
   ]
  },
  {
   "cell_type": "code",
   "execution_count": 6,
   "metadata": {},
   "outputs": [],
   "source": [
    "fits.writeto(fits_out,data*conv_factor_WISE,header=header)"
   ]
  }
 ],
 "metadata": {
  "kernelspec": {
   "display_name": "Python 2",
   "language": "python",
   "name": "python2"
  },
  "language_info": {
   "codemirror_mode": {
    "name": "ipython",
    "version": 2
   },
   "file_extension": ".py",
   "mimetype": "text/x-python",
   "name": "python",
   "nbconvert_exporter": "python",
   "pygments_lexer": "ipython2",
   "version": "2.7.15"
  }
 },
 "nbformat": 4,
 "nbformat_minor": 2
}
